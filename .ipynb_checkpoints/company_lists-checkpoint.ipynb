{
 "cells": [
  {
   "cell_type": "code",
   "execution_count": null,
   "metadata": {},
   "outputs": [],
   "source": [
    "import pandas as pd\n",
    "import numpy as np\n",
    "import matplotlib.pyplot as plt\n",
    "import openpyxl\n",
    "#from pandas_profiling import ProfileReport\n",
    "import plotly.figure_factory as ff\n",
    "import datetime \n",
    "from dateutil.parser import parse\n",
    "import nbformat"
   ]
  },
  {
   "cell_type": "code",
   "execution_count": null,
   "metadata": {},
   "outputs": [],
   "source": [
    "#mass index modifier\n",
    "def set_indexes(dfs, index_list):\n",
    "    for df, index in zip(dfs, index_list):\n",
    "        df.set_index(index, inplace=True, drop=True)"
   ]
  },
  {
   "cell_type": "code",
   "execution_count": null,
   "metadata": {},
   "outputs": [],
   "source": [
    "#apply folder tree\n",
    "RAW_DATA_FOLDER = 'data/raw/'\n",
    "OUTPUT_DATA_FOLDER = 'data/output/'\n",
    "REPORT_FOLDER = 'reports/'\n",
    "\n",
    "#import data\n",
    "keyword_list = pd.read_csv(os.path.join(OUTPUT_DATA_FOLDER, 'keyword_company_list.csv'))\n",
    "nonkeyword_list = pd.read_csv(os.path.join(OUTPUT_DATA_FOLDER, 'company_list.csv'))\n",
    "\n",
    "#set_indexes([energy, industry, sc_logistics, mobility], [\"id\", \"id\", \"id\", \"id\"])"
   ]
  },
  {
   "cell_type": "code",
   "execution_count": null,
   "metadata": {},
   "outputs": [],
   "source": [
    "all_tables = pd.concat([keyword_list, nonkeyword_list])\n",
    "#data formatting\n",
    "all_tables.rename(columns={'Organization Name': 'Company Name', 'Number of Employees': '# of Emp', 'Industries': 'Sub-sectors', 'Total Funding Amount': 'Total Funding', 'Total Funding Amount Currency': 'Total Funding Currency', 'Last Funding Amount': 'Last Funding', 'Last Funding Amount Currency': 'Last Funding Currency'}, inplace=True)\n",
    "all_tables = all_tables[['Company Name', 'Country', 'Sector*', 'Sub-sectors', 'Description', 'Funding Status', '# of Emp', 'Founded Date', 'Total Funding', 'Total Funding Currency', 'Last Funding', 'Last Funding Currency', 'Website', 'LinkedIn', 'Contact Email', 'Organization Name URL']]\n",
    "#drop duplicates\n",
    "all_tables.drop_duplicates(subset='Company Name', keep=\"first\", inplace=True)\n",
    "#output all\n",
    "all_tables.to_excel(os.path.join(OUTPUT_DATA_FOLDER, 'all_companies.xlsx'), index=False)"
   ]
  },
  {
   "cell_type": "code",
   "execution_count": null,
   "metadata": {},
   "outputs": [],
   "source": []
  }
 ],
 "metadata": {
  "kernelspec": {
   "display_name": "Python 3",
   "language": "python",
   "name": "python3"
  },
  "language_info": {
   "codemirror_mode": {
    "name": "ipython",
    "version": 3
   },
   "file_extension": ".py",
   "mimetype": "text/x-python",
   "name": "python",
   "nbconvert_exporter": "python",
   "pygments_lexer": "ipython3",
   "version": "3.8.5"
  }
 },
 "nbformat": 4,
 "nbformat_minor": 4
}
