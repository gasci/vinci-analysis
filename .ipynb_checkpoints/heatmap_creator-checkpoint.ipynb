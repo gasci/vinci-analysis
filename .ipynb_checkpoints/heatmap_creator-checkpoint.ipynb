{
 "cells": [
  {
   "cell_type": "code",
   "execution_count": null,
   "metadata": {},
   "outputs": [],
   "source": [
    "import pandas as pd\n",
    "import numpy as np\n",
    "import matplotlib.pyplot as plt\n",
    "import datetime \n",
    "from dateutil.parser import parse\n",
    "import nbformat"
   ]
  },
  {
   "cell_type": "code",
   "execution_count": null,
   "metadata": {},
   "outputs": [],
   "source": [
    "#mass index modifier\n",
    "def set_indexes(dfs, index_list):\n",
    "    for df, index in zip(dfs, index_list):\n",
    "        df.set_index(index, inplace=True, drop=True)\n",
    "\n",
    "def country_creator(sector_df, country_list):\n",
    "    #rename Headquarters Location to country\n",
    "    sector_df.rename(columns={'Headquarters Location': 'Country'}, inplace=True)\n",
    "    for country_name in country_list:  \n",
    "        sector_df.loc[sector_df['Country'].str.contains(country_name), 'Country'] = country_name\n",
    "\n",
    "def sorter(df, column_names, categories):\n",
    "    temp_array = []\n",
    "    for column_name, category in zip(column_names, categories):\n",
    "        df[column_name] = df[column_name].astype(\"category\")\n",
    "        df[column_name].cat.set_categories(category, inplace=True)\n",
    "    return df.sort_values(column_names)"
   ]
  },
  {
   "cell_type": "code",
   "execution_count": null,
   "metadata": {},
   "outputs": [],
   "source": [
    "#works on the pipeline file\n",
    "PIPELINE = True #overwrites the keyword variable\n",
    "#keyword search on Crunchbase\n",
    "KEYWORD = False\n",
    "\n",
    "if KEYWORD:\n",
    "    JOKER_STRING = 'keyword_'\n",
    "else:\n",
    "    JOKER_STRING = ''\n",
    "\n",
    "if PIPELINE:\n",
    "    JOKER_STRING = 'pipeline_'\n",
    "    KEYWORD = False\n",
    "\n",
    "#apply folder tree\n",
    "RAW_DATA_FOLDER = 'data/raw/'\n",
    "OUTPUT_DATA_FOLDER = 'data/output/'\n",
    "REPORT_FOLDER = 'reports/'\n",
    "\n",
    "#sectors and countries that we are interested\n",
    "sector_list = ['Energy', 'Industry 4.0', 'Mobility', 'Supply Chain']\n",
    "country_list = ['USA+Israel','Germany', 'Turkey', 'United Kingdom']\n",
    "\n",
    "if PIPELINE:\n",
    "    sector_list.append('Other')\n",
    "    country_list.insert(0, 'Other')\n",
    "\n",
    "#sector_list.append('Total')\n",
    "#country_list.append('Total')\n",
    "\n",
    "#import data\n",
    "if not PIPELINE:\n",
    "    energy = pd.read_csv(os.path.join(RAW_DATA_FOLDER, '{}energy.csv'.format(JOKER_STRING)))\n",
    "    industry = pd.read_csv(os.path.join(RAW_DATA_FOLDER, '{}industry.csv'.format(JOKER_STRING)))\n",
    "    sc_logistics = pd.read_csv(os.path.join(RAW_DATA_FOLDER, '{}sc_logistics.csv'.format(JOKER_STRING)))\n",
    "    mobility = pd.read_csv(os.path.join(RAW_DATA_FOLDER, '{}mobility.csv'.format(JOKER_STRING)))\n",
    "else:\n",
    "    pipeline = pd.read_csv(os.path.join(RAW_DATA_FOLDER, 'pipeline.csv'))\n",
    "    #other sectors are other\n",
    "    pipeline.loc[pipeline['Country'].isin(['USA', 'Israel']), 'Country'] = 'USA+Israel'\n",
    "    pipeline.loc[~pipeline['Country'].isin(country_list), 'Country'] = 'Other'\n",
    "    energy = pipeline[pipeline['Sector'] == 'Energy Storage & Management']\n",
    "    industry = pipeline[pipeline['Sector'] == 'Industry 4.0']\n",
    "    total = pipeline[pipeline['Sector'] == 'Industry 4.0']\n",
    "    sc_logistics = pipeline[pipeline['Sector'] == 'Supply Chain & Logistics']\n",
    "    mobility = pipeline[pipeline['Sector'] == 'Mobility & Automotive']\n",
    "    other = pipeline[pipeline['Sector'] == 'Other']\n",
    "\n",
    "#set_indexes([energy, industry, sc_logistics, mobility], [\"id\", \"id\", \"id\", \"id\"])"
   ]
  },
  {
   "cell_type": "code",
   "execution_count": null,
   "metadata": {},
   "outputs": [],
   "source": [
    "#create a new column for with our definitions\n",
    "energy['Sector*'] = sector_list[0]\n",
    "industry['Sector*'] = sector_list[1]\n",
    "mobility['Sector*'] = sector_list[2]\n",
    "sc_logistics['Sector*'] = sector_list[3]  \n",
    "\n",
    "if PIPELINE:\n",
    "    other['Sector*'] = 'Other' "
   ]
  },
  {
   "cell_type": "code",
   "execution_count": null,
   "metadata": {
    "tags": []
   },
   "outputs": [],
   "source": [
    "if not PIPELINE:\n",
    "    sector_dfs = [energy, industry, sc_logistics, mobility]\n",
    "    #apply country function\n",
    "    for sector_df in sector_dfs:\n",
    "        country_creator(sector_df, country_list)"
   ]
  },
  {
   "cell_type": "code",
   "execution_count": null,
   "metadata": {},
   "outputs": [],
   "source": [
    "if not PIPELINE:\n",
    "    #get a complete table\n",
    "    all_tables = pd.concat([energy, industry, sc_logistics, mobility])\n",
    "    all_tables.drop_duplicates(subset='Organization Name', keep=\"first\", inplace=True)\n",
    "else:\n",
    "    all_tables = pd.concat([energy, industry, sc_logistics, mobility, other])\n",
    "    all_tables.drop_duplicates(subset='Name', keep=\"first\", inplace=True)\n",
    "#output company lists\n",
    "#drop duplicates\n",
    "\n",
    "all_tables.to_csv(os.path.join(OUTPUT_DATA_FOLDER, '{}company_list.csv'.format(JOKER_STRING)), index=False)"
   ]
  },
  {
   "cell_type": "code",
   "execution_count": null,
   "metadata": {},
   "outputs": [],
   "source": [
    "#get company distributions by country and sector\n",
    "new_array = all_tables.groupby(['Country', 'Sector*']).size().values\n",
    "new_array"
   ]
  },
  {
   "cell_type": "code",
   "execution_count": null,
   "metadata": {},
   "outputs": [],
   "source": [
    "all_tables = all_tables.groupby(['Country', 'Sector*']).size().to_frame('size').reset_index()\n",
    "all_tables.rename(columns={'size': 'Size'}, inplace=True)\n",
    "all_tables = sorter(all_tables, ['Country', 'Sector*'], [country_list, sector_list])\n",
    "new_array = np.array(all_tables[['Size']])"
   ]
  },
  {
   "cell_type": "code",
   "execution_count": null,
   "metadata": {},
   "outputs": [],
   "source": [
    "#reshape the numpy array\n",
    "if PIPELINE:\n",
    "    reshaped_array = np.reshape(new_array, (5, 5))\n",
    "else:\n",
    "    reshaped_array = np.reshape(new_array, (3, 4))"
   ]
  },
  {
   "cell_type": "code",
   "execution_count": null,
   "metadata": {},
   "outputs": [],
   "source": [
    "#create the heatmap\n",
    "z = reshaped_array\n",
    "x = sector_list\n",
    "y = country_list\n",
    "\n",
    "z_text = reshaped_array\n",
    "\n",
    "fig = ff.create_annotated_heatmap(z, x=x, y=y, annotation_text=z_text, colorscale='reds', showscale=True)\n",
    "\n",
    "if PIPELINE:\n",
    "    title = 'Pipeline File Country/Sector Distribution'    \n",
    "else:\n",
    "    if KEYWORD:\n",
    "        title = 'Crunchbase Country/Sector Distribution (Keyword)'   \n",
    "    else:\n",
    "        title = 'Crunchbase Country/Sector Distribution (Industry Filter)'  \n",
    "\n",
    "#place the title string\n",
    "fig.update_layout(title_text=title, title_x=0.5, title_y=0.94, xaxis_title='Sector', xaxis_title_standoff=0.6, yaxis_title='Country', yaxis_categoryarray=country_list)\n",
    "\n",
    "#html output\n",
    "fig.write_html(os.path.join(REPORT_FOLDER, '{}origination_heatmap.html'.format(JOKER_STRING)))\n",
    "fig.show()"
   ]
  },
  {
   "cell_type": "code",
   "execution_count": null,
   "metadata": {},
   "outputs": [],
   "source": []
  }
 ],
 "metadata": {
  "kernelspec": {
   "display_name": "Python 3",
   "language": "python",
   "name": "python3"
  },
  "language_info": {
   "codemirror_mode": {
    "name": "ipython",
    "version": 3
   },
   "file_extension": ".py",
   "mimetype": "text/x-python",
   "name": "python",
   "nbconvert_exporter": "python",
   "pygments_lexer": "ipython3",
   "version": "3.8.5-final"
  }
 },
 "nbformat": 4,
 "nbformat_minor": 4
}
