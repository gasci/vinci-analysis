{
 "metadata": {
  "language_info": {
   "codemirror_mode": {
    "name": "ipython",
    "version": 3
   },
   "file_extension": ".py",
   "mimetype": "text/x-python",
   "name": "python",
   "nbconvert_exporter": "python",
   "pygments_lexer": "ipython3",
   "version": "3.8.5-final"
  },
  "orig_nbformat": 2,
  "kernelspec": {
   "name": "python3",
   "display_name": "Python 3.8.5 64-bit ('env')",
   "metadata": {
    "interpreter": {
     "hash": "51da6c8bb7e6c992b980497d585c5701cdf791fcbbfe6dc9056c3f444d0f18f3"
    }
   }
  }
 },
 "nbformat": 4,
 "nbformat_minor": 2,
 "cells": [
  {
   "cell_type": "code",
   "execution_count": null,
   "metadata": {},
   "outputs": [],
   "source": [
    "import pandas as pd\n",
    "import numpy as np\n",
    "import matplotlib.pyplot as plt\n",
    "#from pandas_profiling import ProfileReport\n",
    "import plotly.figure_factory as ff\n",
    "import plotly.graph_objects as go\n",
    "import plotly.express as px\n",
    "import datetime \n",
    "from dateutil.parser import parse\n",
    "import nbformat"
   ]
  },
  {
   "cell_type": "code",
   "execution_count": null,
   "metadata": {},
   "outputs": [],
   "source": [
    "#mass index modifier\n",
    "def set_indexes(dfs, index_list):\n",
    "    for df, index in zip(dfs, index_list):\n",
    "        df.set_index(index, inplace=True, drop=True)\n",
    "def size_date_cumulative_creator(column_name, array):\n",
    "    #data wrangling\n",
    "    temp_array = []\n",
    "    for item in array:\n",
    "        temp_df = pipeline[pipeline[column_name] == item].groupby([column_name, 'Date']).size().cumsum().to_frame('size').reset_index().rename(columns={'size': '{}'.format(item)}).drop(column_name, axis=1)\n",
    "        temp_array.append(temp_df)\n",
    "\n",
    "    #merge all tables in a proper way\n",
    "    for index, table in enumerate(temp_array):\n",
    "        if index == 0:\n",
    "            merged_df = pd.merge(\n",
    "                temp_array[index],\n",
    "                temp_array[index + 1],\n",
    "                how=\"outer\",\n",
    "                on=\"Date\",\n",
    "                sort=True,\n",
    "                suffixes=(\"_x\", \"_y\"),\n",
    "            )\n",
    "        else:\n",
    "            merged_df = pd.merge(\n",
    "                merged_df,\n",
    "                temp_array[index],\n",
    "                how=\"outer\",\n",
    "                on=\"Date\",\n",
    "                sort=True,\n",
    "                suffixes=(\"_x\", \"_y\"),\n",
    "            )\n",
    "        \n",
    "    result_df = merged_df.rename(columns={'{}_x'.format(array[1]): array[1]}).drop('{}_y'.format(array[1]), axis=1)\n",
    "\n",
    "    #null handling\n",
    "    result_df.fillna(method='ffill', inplace=True)\n",
    "    result_df.fillna(0, inplace=True)\n",
    "\n",
    "    #create the table figure\n",
    "    fig = go.Figure()\n",
    "    for col in array:\n",
    "        fig.add_trace(\n",
    "            go.Scatter(x=result_df['Date'],\n",
    "                    y=result_df[col],\n",
    "                    name=col))\n",
    "    #update layout\n",
    "    fig.update_layout(title_text='Cumulative Analysis - {}'.format(column_name), title_x=0.5, title_y=0.90, xaxis_title=\"Date\", xaxis_title_standoff=0.6, yaxis_title_standoff=0.6, yaxis_title=column_name)\n",
    "    #output HTML\n",
    "    fig.write_html(os.path.join(REPORT_FOLDER, 'cumulative_analysis_{}.html'.format(column_name)))\n",
    "    fig.show()\n",
    "\n",
    "    #return result_df"
   ]
  },
  {
   "cell_type": "code",
   "execution_count": null,
   "metadata": {},
   "outputs": [],
   "source": [
    "RAW_DATA_FOLDER = 'data/raw/'\n",
    "OUTPUT_DATA_FOLDER = 'data/output/'\n",
    "REPORT_FOLDER = 'reports/'\n",
    "\n",
    "#sectors and countries that we are interested\n",
    "sector_list = ['Energy Storage & Management', 'Industry 4.0', 'Mobility & Automotive', 'Supply Chain & Logistics', 'Other']\n",
    "country_list = ['Germany', 'Turkey', 'United Kingdom', 'Other']\n",
    "\n",
    "pipeline = pd.read_csv(os.path.join(RAW_DATA_FOLDER, 'pipeline.csv'))"
   ]
  },
  {
   "cell_type": "code",
   "execution_count": null,
   "metadata": {},
   "outputs": [],
   "source": [
    "#standardize the date input\n",
    "pipeline.rename(columns={'Day Created': 'Date'}, inplace=True)\n",
    "pipeline['Date'] = pipeline['Date'].str.replace('.', '-')\n",
    "pipeline['Date'] = pipeline['Date'].str.replace('/', '-')\n",
    "pipeline.loc[~pipeline['Country'].isin(country_list), 'Country'] = 'Other'\n",
    "#get rid of irrelevant rows\n",
    "pipeline.dropna(subset = ['Sector'], inplace=True)\n",
    "#adjust time format\n",
    "pipeline[\"Date\"] = pd.to_datetime(pipeline[\"Date\"]).dt.strftime('%Y-%m-%d')\n",
    "pipeline[\"Date\"] = pipeline[\"Date\"].apply(lambda x : parse(x))"
   ]
  },
  {
   "cell_type": "code",
   "execution_count": null,
   "metadata": {},
   "outputs": [],
   "source": [
    "#time_limit = pd.Timestamp(2018,1,1)"
   ]
  },
  {
   "cell_type": "code",
   "execution_count": null,
   "metadata": {},
   "outputs": [],
   "source": [
    "size_date_cumulative_creator('Country', country_list)"
   ]
  },
  {
   "cell_type": "code",
   "execution_count": null,
   "metadata": {},
   "outputs": [],
   "source": []
  }
 ]
}