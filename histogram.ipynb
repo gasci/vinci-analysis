{
 "metadata": {
  "language_info": {
   "codemirror_mode": {
    "name": "ipython",
    "version": 3
   },
   "file_extension": ".py",
   "mimetype": "text/x-python",
   "name": "python",
   "nbconvert_exporter": "python",
   "pygments_lexer": "ipython3",
   "version": "3.8.5-final"
  },
  "orig_nbformat": 2,
  "kernelspec": {
   "name": "python3",
   "display_name": "Python 3",
   "language": "python"
  }
 },
 "nbformat": 4,
 "nbformat_minor": 2,
 "cells": [
  {
   "cell_type": "code",
   "execution_count": 35,
   "metadata": {},
   "outputs": [],
   "source": [
    "import pandas as pd\n",
    "import numpy as np\n",
    "import matplotlib.pyplot as plt\n",
    "#from pandas_profiling import ProfileReport\n",
    "import plotly.figure_factory as ff\n",
    "import plotly.graph_objects as go\n",
    "import datetime \n",
    "from dateutil.parser import parse\n",
    "import nbformat\n",
    "from functools import reduce"
   ]
  },
  {
   "cell_type": "code",
   "execution_count": 36,
   "metadata": {},
   "outputs": [],
   "source": [
    "RAW_DATA_FOLDER = 'data/raw/'\n",
    "OUTPUT_DATA_FOLDER = 'data/output/'\n",
    "REPORT_FOLDER = 'reports/'\n",
    "\n",
    "#sectors and countries that we are interested\n",
    "sector_list = ['Energy Storage & Management', 'Industry 4.0', 'Mobility & Automotive', 'Supply Chain & Logistics', 'Other']\n",
    "country_list = ['Germany', 'Turkey', 'United Kingdom', 'Other']\n",
    "\n",
    "pipeline = pd.read_csv(os.path.join(RAW_DATA_FOLDER, 'pipeline.csv'))\n",
    "\n",
    "CUMULATIVE = True\n",
    "#set_indexes([energy, industry, sc_logistics, mobility], [\"id\", \"id\", \"id\", \"id\"])"
   ]
  },
  {
   "cell_type": "code",
   "execution_count": 37,
   "metadata": {},
   "outputs": [],
   "source": [
    "#standardize the date input\n",
    "pipeline.rename(columns={'Day Created': 'Date'}, inplace=True)\n",
    "#pipeline['Date'] = pipeline['Date'].str.replace('.', '-')\n",
    "#pipeline['Date'] = pipeline['Date'].str.replace('/', '-')\n",
    "#pipeline['One Pager Date'] = pipeline['One Pager Date'].str.replace('.', '-')\n",
    "#pipeline['One Pager Date'] = pipeline['One Pager Date'].str.replace('/', '-')\n",
    "pipeline.loc[~pipeline['Country'].isin(country_list), 'Country'] = 'Other'\n",
    "#get rid of irrelevant rows\n",
    "pipeline.dropna(subset = ['Sector'], inplace=True)\n",
    "pipeline.replace(\"-\", np.nan, inplace=True)"
   ]
  },
  {
   "cell_type": "code",
   "execution_count": 38,
   "metadata": {},
   "outputs": [
    {
     "output_type": "execute_result",
     "data": {
      "text/plain": [
       "34       12/11/18\n",
       "35     26.12.2018\n",
       "62       11/02/19\n",
       "131    16.05.2019\n",
       "240    22.10.2019\n",
       "266    17.10.2020\n",
       "471      12/05/20\n",
       "472    21.08.2020\n",
       "536      10/05/20\n",
       "614    23.10.2020\n",
       "616    25.09.2020\n",
       "Name: Term Sheet Date, dtype: object"
      ]
     },
     "metadata": {},
     "execution_count": 38
    }
   ],
   "source": [
    "pipeline[pipeline[\"Term Sheet Date\"].notnull()][\"Term Sheet Date\"]"
   ]
  },
  {
   "cell_type": "code",
   "execution_count": 39,
   "metadata": {},
   "outputs": [],
   "source": [
    "#adjust time format\n",
    "pipeline[\"Date\"] = pd.to_datetime(pipeline[\"Date\"]).dt.strftime('%Y-%m-%d')\n",
    "pipeline[\"Date\"] = pipeline[\"Date\"].apply(lambda x : parse(x))\n",
    "pipeline[\"One Pager Date\"] = pd.to_datetime(pipeline[\"One Pager Date\"]).dt.strftime('%Y-%m-%d')\n",
    "pipeline[\"One Pager Date\"] = pipeline[pipeline[\"One Pager Date\"].notnull()]['One Pager Date'].apply(lambda x : parse(x))\n",
    "pipeline[\"Term Sheet Date\"] = pd.to_datetime(pipeline[\"Term Sheet Date\"]).dt.strftime('%Y-%m-%d')\n",
    "pipeline[\"Term Sheet Date\"] = pipeline[pipeline[\"Term Sheet Date\"].notnull()]['Term Sheet Date'].apply(lambda x : parse(x))\n",
    "pipeline[\"Closing Date\"] = pd.to_datetime(pipeline[\"Closing Date\"]).dt.strftime('%Y-%m-%d')\n",
    "pipeline[\"Closing Date\"] = pipeline[pipeline[\"Closing Date\"].notnull()]['Closing Date'].apply(lambda x : parse(x))"
   ]
  },
  {
   "cell_type": "code",
   "execution_count": 40,
   "metadata": {},
   "outputs": [],
   "source": [
    "#array(['First Look', 'Term Sheet', 'One Pager', 'Invested'], dtype=object)\n",
    "invested_mask = pipeline['First Look'] == 'Invested'\n",
    "invested_count = pipeline[invested_mask][['Name']].count()\n",
    "\n",
    "term_sheet_mask = invested_mask | (pipeline['First Look'] == 'Term Sheet')\n",
    "term_sheet_count = pipeline[term_sheet_mask][['Name']].count()\n",
    "\n",
    "one_pager_mask = term_sheet_mask | (pipeline['First Look'] == 'One Pager')\n",
    "one_pager_count = pipeline[one_pager_mask][['Name']].count()\n",
    "\n",
    "first_look_mask = one_pager_mask | (pipeline['First Look'] == 'First Look')\n",
    "first_look_count = pipeline[first_look_mask][['Name']].count()"
   ]
  },
  {
   "cell_type": "code",
   "execution_count": 41,
   "metadata": {},
   "outputs": [
    {
     "output_type": "execute_result",
     "data": {
      "text/plain": [
       "array(['Kar-Go', 'NÜWIEL', 'Octovan', 'Reengen', 'Sensefinity',\n",
       "       'Unsupervised.ai', 'Kopernikus', 'Thread In Motion',\n",
       "       'Sensing Feeling', 'Hangaarlab Vsight', 'Park Palet',\n",
       "       'Surve Mobility', 'Evreka', 'Open Capacity', 'Bren Enerji',\n",
       "       'Iltema', 'Awen Collective', 'Smartia', 'HeroTech8', 'ZGN',\n",
       "       'Artiminds', 'ProcessEye', 'Duckt', 'Bico AI', 'Navlungo',\n",
       "       'Mobilus', 'Circulor', 'Shipsgo', 'Ai Build', 'Nuvven', 'Sewts',\n",
       "       'Syntonym', 'Drimco', 'Bonnet'], dtype=object)"
      ]
     },
     "metadata": {},
     "execution_count": 41
    }
   ],
   "source": [
    "#test the mask feature\n",
    "pipeline[one_pager_mask]['Name'].unique()"
   ]
  },
  {
   "cell_type": "code",
   "execution_count": 42,
   "metadata": {},
   "outputs": [],
   "source": [
    "#Quarter Creator\n",
    "pipeline[\"First Look Quarter\"] = pipeline[first_look_mask][\"Date\"].dt.to_period(\"Q\")\n",
    "pipeline[\"One Pager Quarter\"] = pipeline[one_pager_mask][\"One Pager Date\"].dt.to_period(\"Q\")\n",
    "pipeline[\"Term Sheet Quarter\"] = pipeline[term_sheet_mask][\"Term Sheet Date\"].dt.to_period(\"Q\")\n",
    "pipeline[\"Invested Quarter\"] = pipeline[invested_mask][\"Closing Date\"].dt.to_period(\"Q\")"
   ]
  },
  {
   "cell_type": "code",
   "execution_count": 43,
   "metadata": {},
   "outputs": [],
   "source": [
    "if CUMULATIVE:\n",
    "    invested_quarter = pipeline.groupby('Invested Quarter').size().cumsum().to_frame('Invested').reset_index().rename(columns={'Invested Quarter': 'Quarter'})\n",
    "    term_sheet_quarter = pipeline.groupby('Term Sheet Quarter').size().cumsum().to_frame('Term Sheet').reset_index().rename(columns={'Term Sheet Quarter': 'Quarter'})\n",
    "    one_pager_quarter = pipeline.groupby('One Pager Quarter').size().cumsum().to_frame('One Pager').reset_index().rename(columns={'One Pager Quarter': 'Quarter'})\n",
    "    first_look_quarter = pipeline.groupby('First Look Quarter').size().cumsum().to_frame('First Look').reset_index().rename(columns={'First Look Quarter': 'Quarter'})\n",
    "else:\n",
    "    invested_quarter = pipeline.groupby('Invested Quarter').size().to_frame('Invested').reset_index().rename(columns={'Invested Quarter': 'Quarter'})\n",
    "    term_sheet_quarter = pipeline.groupby('Term Sheet Quarter').size().to_frame('Term Sheet').reset_index().rename(columns={'Term Sheet Quarter': 'Quarter'})\n",
    "    one_pager_quarter = pipeline.groupby('One Pager Quarter').size().to_frame('One Pager').reset_index().rename(columns={'One Pager Quarter': 'Quarter'})\n",
    "    first_look_quarter = pipeline.groupby('First Look Quarter').size().to_frame('First Look').reset_index().rename(columns={'First Look Quarter': 'Quarter'})"
   ]
  },
  {
   "cell_type": "code",
   "execution_count": 44,
   "metadata": {},
   "outputs": [
    {
     "output_type": "stream",
     "name": "stdout",
     "text": [
      " \nfirst_look: 1047\none_pager: 34\nterm_sheet: 11 \ninvested: 6\n\n"
     ]
    }
   ],
   "source": [
    "print(\"\"\" \n",
    "first_look: {}\n",
    "one_pager: {}\n",
    "term_sheet: {} \n",
    "invested: {}\n",
    "\"\"\".format(int(first_look_count), int(one_pager_count), int(term_sheet_count), int(invested_count)))"
   ]
  },
  {
   "cell_type": "code",
   "execution_count": 45,
   "metadata": {},
   "outputs": [],
   "source": [
    "dfs = [invested_quarter, term_sheet_quarter, one_pager_quarter, first_look_quarter]"
   ]
  },
  {
   "cell_type": "code",
   "execution_count": 46,
   "metadata": {},
   "outputs": [],
   "source": [
    "df_final = reduce(lambda left,right: pd.merge(left, right, on='Quarter', how='outer'), dfs)"
   ]
  },
  {
   "cell_type": "code",
   "execution_count": 47,
   "metadata": {},
   "outputs": [],
   "source": [
    "df_final = df_final.replace(np.nan, 0)"
   ]
  },
  {
   "cell_type": "code",
   "execution_count": 48,
   "metadata": {},
   "outputs": [],
   "source": [
    "df_final['Invested'] = df_final['Invested'].astype('int')\n",
    "df_final['Term Sheet'] = df_final['Term Sheet'].astype('int')\n",
    "df_final['One Pager'] = df_final['One Pager'].astype('int')\n",
    "df_final['First Look'] = df_final['First Look'].astype('int')\n",
    "#df_final['Invested'].astype('int')"
   ]
  },
  {
   "cell_type": "code",
   "execution_count": 49,
   "metadata": {},
   "outputs": [],
   "source": [
    "df_final.sort_values('Quarter', inplace=True)"
   ]
  },
  {
   "cell_type": "code",
   "execution_count": 50,
   "metadata": {},
   "outputs": [
    {
     "output_type": "execute_result",
     "data": {
      "text/plain": [
       "   Quarter  Invested  Term Sheet  One Pager  First Look\n",
       "7   2002Q3         0           0          1           0\n",
       "8   2018Q1         0           0          3          16\n",
       "11  2018Q2         0           0          0          33\n",
       "12  2018Q3         0           0          0          53\n",
       "5   2018Q4         0           2          7          83\n",
       "0   2019Q1         1           0         10         162\n",
       "1   2019Q2         3           3         12         231\n",
       "9   2019Q3         0           0         16         325\n",
       "6   2019Q4         0           5         17         404\n",
       "2   2020Q1         4           0         25         552\n",
       "10  2020Q2         0           0         28         727\n",
       "3   2020Q3         5           7         32         896\n",
       "4   2020Q4         6          11         33        1047"
      ],
      "text/html": "<div>\n<style scoped>\n    .dataframe tbody tr th:only-of-type {\n        vertical-align: middle;\n    }\n\n    .dataframe tbody tr th {\n        vertical-align: top;\n    }\n\n    .dataframe thead th {\n        text-align: right;\n    }\n</style>\n<table border=\"1\" class=\"dataframe\">\n  <thead>\n    <tr style=\"text-align: right;\">\n      <th></th>\n      <th>Quarter</th>\n      <th>Invested</th>\n      <th>Term Sheet</th>\n      <th>One Pager</th>\n      <th>First Look</th>\n    </tr>\n  </thead>\n  <tbody>\n    <tr>\n      <th>7</th>\n      <td>2002Q3</td>\n      <td>0</td>\n      <td>0</td>\n      <td>1</td>\n      <td>0</td>\n    </tr>\n    <tr>\n      <th>8</th>\n      <td>2018Q1</td>\n      <td>0</td>\n      <td>0</td>\n      <td>3</td>\n      <td>16</td>\n    </tr>\n    <tr>\n      <th>11</th>\n      <td>2018Q2</td>\n      <td>0</td>\n      <td>0</td>\n      <td>0</td>\n      <td>33</td>\n    </tr>\n    <tr>\n      <th>12</th>\n      <td>2018Q3</td>\n      <td>0</td>\n      <td>0</td>\n      <td>0</td>\n      <td>53</td>\n    </tr>\n    <tr>\n      <th>5</th>\n      <td>2018Q4</td>\n      <td>0</td>\n      <td>2</td>\n      <td>7</td>\n      <td>83</td>\n    </tr>\n    <tr>\n      <th>0</th>\n      <td>2019Q1</td>\n      <td>1</td>\n      <td>0</td>\n      <td>10</td>\n      <td>162</td>\n    </tr>\n    <tr>\n      <th>1</th>\n      <td>2019Q2</td>\n      <td>3</td>\n      <td>3</td>\n      <td>12</td>\n      <td>231</td>\n    </tr>\n    <tr>\n      <th>9</th>\n      <td>2019Q3</td>\n      <td>0</td>\n      <td>0</td>\n      <td>16</td>\n      <td>325</td>\n    </tr>\n    <tr>\n      <th>6</th>\n      <td>2019Q4</td>\n      <td>0</td>\n      <td>5</td>\n      <td>17</td>\n      <td>404</td>\n    </tr>\n    <tr>\n      <th>2</th>\n      <td>2020Q1</td>\n      <td>4</td>\n      <td>0</td>\n      <td>25</td>\n      <td>552</td>\n    </tr>\n    <tr>\n      <th>10</th>\n      <td>2020Q2</td>\n      <td>0</td>\n      <td>0</td>\n      <td>28</td>\n      <td>727</td>\n    </tr>\n    <tr>\n      <th>3</th>\n      <td>2020Q3</td>\n      <td>5</td>\n      <td>7</td>\n      <td>32</td>\n      <td>896</td>\n    </tr>\n    <tr>\n      <th>4</th>\n      <td>2020Q4</td>\n      <td>6</td>\n      <td>11</td>\n      <td>33</td>\n      <td>1047</td>\n    </tr>\n  </tbody>\n</table>\n</div>"
     },
     "metadata": {},
     "execution_count": 50
    }
   ],
   "source": [
    "df_final"
   ]
  },
  {
   "cell_type": "code",
   "execution_count": 88,
   "metadata": {},
   "outputs": [
    {
     "output_type": "display_data",
     "data": {
      "text/plain": "<Figure size 432x288 with 1 Axes>",
      "image/svg+xml": "<?xml version=\"1.0\" encoding=\"utf-8\" standalone=\"no\"?>\n<!DOCTYPE svg PUBLIC \"-//W3C//DTD SVG 1.1//EN\"\n  \"http://www.w3.org/Graphics/SVG/1.1/DTD/svg11.dtd\">\n<!-- Created with matplotlib (https://matplotlib.org/) -->\n<svg height=\"262.19625pt\" version=\"1.1\" viewBox=\"0 0 372.229911 262.19625\" width=\"372.229911pt\" xmlns=\"http://www.w3.org/2000/svg\" xmlns:xlink=\"http://www.w3.org/1999/xlink\">\n <metadata>\n  <rdf:RDF xmlns:cc=\"http://creativecommons.org/ns#\" xmlns:dc=\"http://purl.org/dc/elements/1.1/\" xmlns:rdf=\"http://www.w3.org/1999/02/22-rdf-syntax-ns#\">\n   <cc:Work>\n    <dc:type rdf:resource=\"http://purl.org/dc/dcmitype/StillImage\"/>\n    <dc:date>2021-01-04T23:33:29.006041</dc:date>\n    <dc:format>image/svg+xml</dc:format>\n    <dc:creator>\n     <cc:Agent>\n      <dc:title>Matplotlib v3.3.3, https://matplotlib.org/</dc:title>\n     </cc:Agent>\n    </dc:creator>\n   </cc:Work>\n  </rdf:RDF>\n </metadata>\n <defs>\n  <style type=\"text/css\">*{stroke-linecap:butt;stroke-linejoin:round;}</style>\n </defs>\n <g id=\"figure_1\">\n  <g id=\"patch_1\">\n   <path d=\"M 0 262.19625 \nL 372.229911 262.19625 \nL 372.229911 0 \nL 0 0 \nz\n\" style=\"fill:none;\"/>\n  </g>\n  <g id=\"axes_1\">\n   <g id=\"patch_2\">\n    <path d=\"M 28.115625 224.64 \nL 362.915625 224.64 \nL 362.915625 7.2 \nL 28.115625 7.2 \nz\n\" style=\"fill:#ffffff;\"/>\n   </g>\n   <g id=\"patch_3\">\n    <path clip-path=\"url(#pcde4964c21)\" d=\"M 43.333807 224.64 \nL 51.959497 224.64 \nL 51.959497 220.498286 \nL 43.333807 220.498286 \nz\n\" style=\"fill:#ff0000;stroke:#ffffff;stroke-linejoin:miter;\"/>\n   </g>\n   <g id=\"patch_4\">\n    <path clip-path=\"url(#pcde4964c21)\" d=\"M 67.978636 224.64 \nL 76.604326 224.64 \nL 76.604326 212.214857 \nL 67.978636 212.214857 \nz\n\" style=\"fill:#ff0000;stroke:#ffffff;stroke-linejoin:miter;\"/>\n   </g>\n   <g id=\"patch_5\">\n    <path clip-path=\"url(#pcde4964c21)\" d=\"M 92.623465 224.64 \nL 101.249155 224.64 \nL 101.249155 224.64 \nL 92.623465 224.64 \nz\n\" style=\"fill:#ff0000;stroke:#ffffff;stroke-linejoin:miter;\"/>\n   </g>\n   <g id=\"patch_6\">\n    <path clip-path=\"url(#pcde4964c21)\" d=\"M 117.268293 224.64 \nL 125.893983 224.64 \nL 125.893983 224.64 \nL 117.268293 224.64 \nz\n\" style=\"fill:#ff0000;stroke:#ffffff;stroke-linejoin:miter;\"/>\n   </g>\n   <g id=\"patch_7\">\n    <path clip-path=\"url(#pcde4964c21)\" d=\"M 141.913122 224.64 \nL 150.538812 224.64 \nL 150.538812 195.648 \nL 141.913122 195.648 \nz\n\" style=\"fill:#ff0000;stroke:#ffffff;stroke-linejoin:miter;\"/>\n   </g>\n   <g id=\"patch_8\">\n    <path clip-path=\"url(#pcde4964c21)\" d=\"M 166.557951 224.64 \nL 175.183641 224.64 \nL 175.183641 183.222857 \nL 166.557951 183.222857 \nz\n\" style=\"fill:#ff0000;stroke:#ffffff;stroke-linejoin:miter;\"/>\n   </g>\n   <g id=\"patch_9\">\n    <path clip-path=\"url(#pcde4964c21)\" d=\"M 191.20278 224.64 \nL 199.82847 224.64 \nL 199.82847 174.939429 \nL 191.20278 174.939429 \nz\n\" style=\"fill:#ff0000;stroke:#ffffff;stroke-linejoin:miter;\"/>\n   </g>\n   <g id=\"patch_10\">\n    <path clip-path=\"url(#pcde4964c21)\" d=\"M 215.847609 224.64 \nL 224.473299 224.64 \nL 224.473299 158.372571 \nL 215.847609 158.372571 \nz\n\" style=\"fill:#ff0000;stroke:#ffffff;stroke-linejoin:miter;\"/>\n   </g>\n   <g id=\"patch_11\">\n    <path clip-path=\"url(#pcde4964c21)\" d=\"M 240.492438 224.64 \nL 249.118128 224.64 \nL 249.118128 154.230857 \nL 240.492438 154.230857 \nz\n\" style=\"fill:#ff0000;stroke:#ffffff;stroke-linejoin:miter;\"/>\n   </g>\n   <g id=\"patch_12\">\n    <path clip-path=\"url(#pcde4964c21)\" d=\"M 265.137267 224.64 \nL 273.762957 224.64 \nL 273.762957 121.097143 \nL 265.137267 121.097143 \nz\n\" style=\"fill:#ff0000;stroke:#ffffff;stroke-linejoin:miter;\"/>\n   </g>\n   <g id=\"patch_13\">\n    <path clip-path=\"url(#pcde4964c21)\" d=\"M 289.782095 224.64 \nL 298.407785 224.64 \nL 298.407785 108.672 \nL 289.782095 108.672 \nz\n\" style=\"fill:#ff0000;stroke:#ffffff;stroke-linejoin:miter;\"/>\n   </g>\n   <g id=\"patch_14\">\n    <path clip-path=\"url(#pcde4964c21)\" d=\"M 314.426924 224.64 \nL 323.052614 224.64 \nL 323.052614 92.105143 \nL 314.426924 92.105143 \nz\n\" style=\"fill:#ff0000;stroke:#ffffff;stroke-linejoin:miter;\"/>\n   </g>\n   <g id=\"patch_15\">\n    <path clip-path=\"url(#pcde4964c21)\" d=\"M 339.071753 224.64 \nL 347.697443 224.64 \nL 347.697443 87.963429 \nL 339.071753 87.963429 \nz\n\" style=\"fill:#ff0000;stroke:#ffffff;stroke-linejoin:miter;\"/>\n   </g>\n   <g id=\"patch_16\">\n    <path clip-path=\"url(#pcde4964c21)\" d=\"M 43.333807 220.498286 \nL 51.959497 220.498286 \nL 51.959497 220.498286 \nL 43.333807 220.498286 \nz\n\" style=\"fill:#008000;stroke:#ffffff;stroke-linejoin:miter;\"/>\n   </g>\n   <g id=\"patch_17\">\n    <path clip-path=\"url(#pcde4964c21)\" d=\"M 67.978636 212.214857 \nL 76.604326 212.214857 \nL 76.604326 212.214857 \nL 67.978636 212.214857 \nz\n\" style=\"fill:#008000;stroke:#ffffff;stroke-linejoin:miter;\"/>\n   </g>\n   <g id=\"patch_18\">\n    <path clip-path=\"url(#pcde4964c21)\" d=\"M 92.623465 224.64 \nL 101.249155 224.64 \nL 101.249155 224.64 \nL 92.623465 224.64 \nz\n\" style=\"fill:#008000;stroke:#ffffff;stroke-linejoin:miter;\"/>\n   </g>\n   <g id=\"patch_19\">\n    <path clip-path=\"url(#pcde4964c21)\" d=\"M 117.268293 224.64 \nL 125.893983 224.64 \nL 125.893983 224.64 \nL 117.268293 224.64 \nz\n\" style=\"fill:#008000;stroke:#ffffff;stroke-linejoin:miter;\"/>\n   </g>\n   <g id=\"patch_20\">\n    <path clip-path=\"url(#pcde4964c21)\" d=\"M 141.913122 195.648 \nL 150.538812 195.648 \nL 150.538812 195.648 \nL 141.913122 195.648 \nz\n\" style=\"fill:#008000;stroke:#ffffff;stroke-linejoin:miter;\"/>\n   </g>\n   <g id=\"patch_21\">\n    <path clip-path=\"url(#pcde4964c21)\" d=\"M 166.557951 183.222857 \nL 175.183641 183.222857 \nL 175.183641 179.081143 \nL 166.557951 179.081143 \nz\n\" style=\"fill:#008000;stroke:#ffffff;stroke-linejoin:miter;\"/>\n   </g>\n   <g id=\"patch_22\">\n    <path clip-path=\"url(#pcde4964c21)\" d=\"M 191.20278 174.939429 \nL 199.82847 174.939429 \nL 199.82847 162.514286 \nL 191.20278 162.514286 \nz\n\" style=\"fill:#008000;stroke:#ffffff;stroke-linejoin:miter;\"/>\n   </g>\n   <g id=\"patch_23\">\n    <path clip-path=\"url(#pcde4964c21)\" d=\"M 215.847609 158.372571 \nL 224.473299 158.372571 \nL 224.473299 158.372571 \nL 215.847609 158.372571 \nz\n\" style=\"fill:#008000;stroke:#ffffff;stroke-linejoin:miter;\"/>\n   </g>\n   <g id=\"patch_24\">\n    <path clip-path=\"url(#pcde4964c21)\" d=\"M 240.492438 154.230857 \nL 249.118128 154.230857 \nL 249.118128 154.230857 \nL 240.492438 154.230857 \nz\n\" style=\"fill:#008000;stroke:#ffffff;stroke-linejoin:miter;\"/>\n   </g>\n   <g id=\"patch_25\">\n    <path clip-path=\"url(#pcde4964c21)\" d=\"M 265.137267 121.097143 \nL 273.762957 121.097143 \nL 273.762957 104.530286 \nL 265.137267 104.530286 \nz\n\" style=\"fill:#008000;stroke:#ffffff;stroke-linejoin:miter;\"/>\n   </g>\n   <g id=\"patch_26\">\n    <path clip-path=\"url(#pcde4964c21)\" d=\"M 289.782095 108.672 \nL 298.407785 108.672 \nL 298.407785 108.672 \nL 289.782095 108.672 \nz\n\" style=\"fill:#008000;stroke:#ffffff;stroke-linejoin:miter;\"/>\n   </g>\n   <g id=\"patch_27\">\n    <path clip-path=\"url(#pcde4964c21)\" d=\"M 314.426924 92.105143 \nL 323.052614 92.105143 \nL 323.052614 71.396571 \nL 314.426924 71.396571 \nz\n\" style=\"fill:#008000;stroke:#ffffff;stroke-linejoin:miter;\"/>\n   </g>\n   <g id=\"patch_28\">\n    <path clip-path=\"url(#pcde4964c21)\" d=\"M 339.071753 87.963429 \nL 347.697443 87.963429 \nL 347.697443 63.113143 \nL 339.071753 63.113143 \nz\n\" style=\"fill:#008000;stroke:#ffffff;stroke-linejoin:miter;\"/>\n   </g>\n   <g id=\"patch_29\">\n    <path clip-path=\"url(#pcde4964c21)\" d=\"M 43.333807 220.498286 \nL 51.959497 220.498286 \nL 51.959497 220.498286 \nL 43.333807 220.498286 \nz\n\" style=\"fill:#0000ff;stroke:#ffffff;stroke-linejoin:miter;\"/>\n   </g>\n   <g id=\"patch_30\">\n    <path clip-path=\"url(#pcde4964c21)\" d=\"M 67.978636 212.214857 \nL 76.604326 212.214857 \nL 76.604326 212.214857 \nL 67.978636 212.214857 \nz\n\" style=\"fill:#0000ff;stroke:#ffffff;stroke-linejoin:miter;\"/>\n   </g>\n   <g id=\"patch_31\">\n    <path clip-path=\"url(#pcde4964c21)\" d=\"M 92.623465 224.64 \nL 101.249155 224.64 \nL 101.249155 224.64 \nL 92.623465 224.64 \nz\n\" style=\"fill:#0000ff;stroke:#ffffff;stroke-linejoin:miter;\"/>\n   </g>\n   <g id=\"patch_32\">\n    <path clip-path=\"url(#pcde4964c21)\" d=\"M 117.268293 224.64 \nL 125.893983 224.64 \nL 125.893983 224.64 \nL 117.268293 224.64 \nz\n\" style=\"fill:#0000ff;stroke:#ffffff;stroke-linejoin:miter;\"/>\n   </g>\n   <g id=\"patch_33\">\n    <path clip-path=\"url(#pcde4964c21)\" d=\"M 141.913122 195.648 \nL 150.538812 195.648 \nL 150.538812 187.364571 \nL 141.913122 187.364571 \nz\n\" style=\"fill:#0000ff;stroke:#ffffff;stroke-linejoin:miter;\"/>\n   </g>\n   <g id=\"patch_34\">\n    <path clip-path=\"url(#pcde4964c21)\" d=\"M 166.557951 179.081143 \nL 175.183641 179.081143 \nL 175.183641 179.081143 \nL 166.557951 179.081143 \nz\n\" style=\"fill:#0000ff;stroke:#ffffff;stroke-linejoin:miter;\"/>\n   </g>\n   <g id=\"patch_35\">\n    <path clip-path=\"url(#pcde4964c21)\" d=\"M 191.20278 162.514286 \nL 199.82847 162.514286 \nL 199.82847 150.089143 \nL 191.20278 150.089143 \nz\n\" style=\"fill:#0000ff;stroke:#ffffff;stroke-linejoin:miter;\"/>\n   </g>\n   <g id=\"patch_36\">\n    <path clip-path=\"url(#pcde4964c21)\" d=\"M 215.847609 158.372571 \nL 224.473299 158.372571 \nL 224.473299 158.372571 \nL 215.847609 158.372571 \nz\n\" style=\"fill:#0000ff;stroke:#ffffff;stroke-linejoin:miter;\"/>\n   </g>\n   <g id=\"patch_37\">\n    <path clip-path=\"url(#pcde4964c21)\" d=\"M 240.492438 154.230857 \nL 249.118128 154.230857 \nL 249.118128 133.522286 \nL 240.492438 133.522286 \nz\n\" style=\"fill:#0000ff;stroke:#ffffff;stroke-linejoin:miter;\"/>\n   </g>\n   <g id=\"patch_38\">\n    <path clip-path=\"url(#pcde4964c21)\" d=\"M 265.137267 104.530286 \nL 273.762957 104.530286 \nL 273.762957 104.530286 \nL 265.137267 104.530286 \nz\n\" style=\"fill:#0000ff;stroke:#ffffff;stroke-linejoin:miter;\"/>\n   </g>\n   <g id=\"patch_39\">\n    <path clip-path=\"url(#pcde4964c21)\" d=\"M 289.782095 108.672 \nL 298.407785 108.672 \nL 298.407785 108.672 \nL 289.782095 108.672 \nz\n\" style=\"fill:#0000ff;stroke:#ffffff;stroke-linejoin:miter;\"/>\n   </g>\n   <g id=\"patch_40\">\n    <path clip-path=\"url(#pcde4964c21)\" d=\"M 314.426924 71.396571 \nL 323.052614 71.396571 \nL 323.052614 42.404571 \nL 314.426924 42.404571 \nz\n\" style=\"fill:#0000ff;stroke:#ffffff;stroke-linejoin:miter;\"/>\n   </g>\n   <g id=\"patch_41\">\n    <path clip-path=\"url(#pcde4964c21)\" d=\"M 339.071753 63.113143 \nL 347.697443 63.113143 \nL 347.697443 17.554286 \nL 339.071753 17.554286 \nz\n\" style=\"fill:#0000ff;stroke:#ffffff;stroke-linejoin:miter;\"/>\n   </g>\n   <g id=\"matplotlib.axis_1\">\n    <g id=\"xtick_1\">\n     <g id=\"line2d_1\">\n      <defs>\n       <path d=\"M 0 0 \nL 0 3.5 \n\" id=\"m32ebfffdb0\" style=\"stroke:#000000;stroke-width:0.8;\"/>\n      </defs>\n      <g>\n       <use style=\"stroke:#000000;stroke-width:0.8;\" x=\"47.646652\" xlink:href=\"#m32ebfffdb0\" y=\"224.64\"/>\n      </g>\n     </g>\n     <g id=\"text_1\">\n      <!-- 2002Q3 -->\n      <g transform=\"translate(26.001339 239.238438)scale(0.1 -0.1)\">\n       <defs>\n        <path d=\"M 28.8125 13.8125 \nL 60.890625 13.8125 \nL 60.890625 0 \nL 7.90625 0 \nL 7.90625 13.8125 \nL 34.515625 37.3125 \nQ 38.09375 40.53125 39.796875 43.609375 \nQ 41.5 46.6875 41.5 50 \nQ 41.5 55.125 38.0625 58.25 \nQ 34.625 61.375 28.90625 61.375 \nQ 24.515625 61.375 19.28125 59.5 \nQ 14.0625 57.625 8.109375 53.90625 \nL 8.109375 69.921875 \nQ 14.453125 72.015625 20.65625 73.109375 \nQ 26.859375 74.21875 32.8125 74.21875 \nQ 45.90625 74.21875 53.15625 68.453125 \nQ 60.40625 62.703125 60.40625 52.390625 \nQ 60.40625 46.4375 57.328125 41.28125 \nQ 54.25 36.140625 44.390625 27.484375 \nz\n\" id=\"DejaVuSans-Bold-50\"/>\n        <path d=\"M 46 36.53125 \nQ 46 50.203125 43.4375 55.78125 \nQ 40.875 61.375 34.8125 61.375 \nQ 28.765625 61.375 26.171875 55.78125 \nQ 23.578125 50.203125 23.578125 36.53125 \nQ 23.578125 22.703125 26.171875 17.03125 \nQ 28.765625 11.375 34.8125 11.375 \nQ 40.828125 11.375 43.40625 17.03125 \nQ 46 22.703125 46 36.53125 \nz\nM 64.796875 36.375 \nQ 64.796875 18.265625 56.984375 8.421875 \nQ 49.171875 -1.421875 34.8125 -1.421875 \nQ 20.40625 -1.421875 12.59375 8.421875 \nQ 4.78125 18.265625 4.78125 36.375 \nQ 4.78125 54.546875 12.59375 64.375 \nQ 20.40625 74.21875 34.8125 74.21875 \nQ 49.171875 74.21875 56.984375 64.375 \nQ 64.796875 54.546875 64.796875 36.375 \nz\n\" id=\"DejaVuSans-Bold-48\"/>\n        <path d=\"M 44.484375 -1.3125 \nL 43.015625 -1.3125 \nQ 25 -1.3125 14.984375 8.640625 \nQ 4.984375 18.609375 4.984375 36.375 \nQ 4.984375 54.109375 14.96875 64.15625 \nQ 24.953125 74.21875 42.484375 74.21875 \nQ 60.203125 74.21875 70.09375 64.25 \nQ 79.984375 54.296875 79.984375 36.375 \nQ 79.984375 24.078125 74.734375 15.1875 \nQ 69.484375 6.296875 59.625 1.8125 \nL 74.3125 -14.59375 \nL 56.390625 -14.59375 \nz\nM 42.484375 60.59375 \nQ 33.890625 60.59375 29.15625 54.25 \nQ 24.421875 47.90625 24.421875 36.375 \nQ 24.421875 24.65625 29.046875 18.421875 \nQ 33.6875 12.203125 42.484375 12.203125 \nQ 51.125 12.203125 55.859375 18.546875 \nQ 60.59375 24.90625 60.59375 36.375 \nQ 60.59375 47.90625 55.859375 54.25 \nQ 51.125 60.59375 42.484375 60.59375 \nz\n\" id=\"DejaVuSans-Bold-81\"/>\n        <path d=\"M 46.578125 39.3125 \nQ 53.953125 37.40625 57.78125 32.6875 \nQ 61.625 27.984375 61.625 20.703125 \nQ 61.625 9.859375 53.3125 4.21875 \nQ 45.015625 -1.421875 29.109375 -1.421875 \nQ 23.484375 -1.421875 17.84375 -0.515625 \nQ 12.203125 0.390625 6.6875 2.203125 \nL 6.6875 16.703125 \nQ 11.96875 14.0625 17.15625 12.71875 \nQ 22.359375 11.375 27.390625 11.375 \nQ 34.859375 11.375 38.84375 13.953125 \nQ 42.828125 16.546875 42.828125 21.390625 \nQ 42.828125 26.375 38.75 28.9375 \nQ 34.671875 31.5 26.703125 31.5 \nL 19.1875 31.5 \nL 19.1875 43.609375 \nL 27.09375 43.609375 \nQ 34.1875 43.609375 37.640625 45.828125 \nQ 41.109375 48.046875 41.109375 52.59375 \nQ 41.109375 56.78125 37.734375 59.078125 \nQ 34.375 61.375 28.21875 61.375 \nQ 23.6875 61.375 19.046875 60.34375 \nQ 14.40625 59.328125 9.8125 57.328125 \nL 9.8125 71.09375 \nQ 15.375 72.65625 20.84375 73.4375 \nQ 26.3125 74.21875 31.59375 74.21875 \nQ 45.796875 74.21875 52.84375 69.546875 \nQ 59.90625 64.890625 59.90625 55.515625 \nQ 59.90625 49.125 56.53125 45.046875 \nQ 53.171875 40.96875 46.578125 39.3125 \nz\n\" id=\"DejaVuSans-Bold-51\"/>\n       </defs>\n       <use xlink:href=\"#DejaVuSans-Bold-50\"/>\n       <use x=\"69.580078\" xlink:href=\"#DejaVuSans-Bold-48\"/>\n       <use x=\"139.160156\" xlink:href=\"#DejaVuSans-Bold-48\"/>\n       <use x=\"208.740234\" xlink:href=\"#DejaVuSans-Bold-50\"/>\n       <use x=\"278.320312\" xlink:href=\"#DejaVuSans-Bold-81\"/>\n       <use x=\"363.330078\" xlink:href=\"#DejaVuSans-Bold-51\"/>\n      </g>\n     </g>\n    </g>\n    <g id=\"xtick_2\">\n     <g id=\"line2d_2\">\n      <g>\n       <use style=\"stroke:#000000;stroke-width:0.8;\" x=\"72.291481\" xlink:href=\"#m32ebfffdb0\" y=\"224.64\"/>\n      </g>\n     </g>\n     <g id=\"text_2\">\n      <!-- 2018Q1 -->\n      <g transform=\"translate(50.646168 239.238438)scale(0.1 -0.1)\">\n       <defs>\n        <path d=\"M 11.71875 12.984375 \nL 28.328125 12.984375 \nL 28.328125 60.109375 \nL 11.28125 56.59375 \nL 11.28125 69.390625 \nL 28.21875 72.90625 \nL 46.09375 72.90625 \nL 46.09375 12.984375 \nL 62.703125 12.984375 \nL 62.703125 0 \nL 11.71875 0 \nz\n\" id=\"DejaVuSans-Bold-49\"/>\n        <path d=\"M 34.8125 32.625 \nQ 29.546875 32.625 26.703125 29.734375 \nQ 23.875 26.859375 23.875 21.484375 \nQ 23.875 16.109375 26.703125 13.25 \nQ 29.546875 10.40625 34.8125 10.40625 \nQ 40.046875 10.40625 42.828125 13.25 \nQ 45.609375 16.109375 45.609375 21.484375 \nQ 45.609375 26.90625 42.828125 29.765625 \nQ 40.046875 32.625 34.8125 32.625 \nz\nM 21.09375 38.8125 \nQ 14.453125 40.828125 11.078125 44.96875 \nQ 7.71875 49.125 7.71875 55.328125 \nQ 7.71875 64.546875 14.59375 69.375 \nQ 21.484375 74.21875 34.8125 74.21875 \nQ 48.046875 74.21875 54.921875 69.40625 \nQ 61.8125 64.59375 61.8125 55.328125 \nQ 61.8125 49.125 58.421875 44.96875 \nQ 55.03125 40.828125 48.390625 38.8125 \nQ 55.8125 36.765625 59.59375 32.15625 \nQ 63.375 27.546875 63.375 20.515625 \nQ 63.375 9.671875 56.171875 4.125 \nQ 48.96875 -1.421875 34.8125 -1.421875 \nQ 20.609375 -1.421875 13.359375 4.125 \nQ 6.109375 9.671875 6.109375 20.515625 \nQ 6.109375 27.546875 9.890625 32.15625 \nQ 13.671875 36.765625 21.09375 38.8125 \nz\nM 25.484375 53.421875 \nQ 25.484375 49.078125 27.90625 46.734375 \nQ 30.328125 44.390625 34.8125 44.390625 \nQ 39.203125 44.390625 41.59375 46.734375 \nQ 44 49.078125 44 53.421875 \nQ 44 57.765625 41.59375 60.078125 \nQ 39.203125 62.40625 34.8125 62.40625 \nQ 30.328125 62.40625 27.90625 60.0625 \nQ 25.484375 57.71875 25.484375 53.421875 \nz\n\" id=\"DejaVuSans-Bold-56\"/>\n       </defs>\n       <use xlink:href=\"#DejaVuSans-Bold-50\"/>\n       <use x=\"69.580078\" xlink:href=\"#DejaVuSans-Bold-48\"/>\n       <use x=\"139.160156\" xlink:href=\"#DejaVuSans-Bold-49\"/>\n       <use x=\"208.740234\" xlink:href=\"#DejaVuSans-Bold-56\"/>\n       <use x=\"278.320312\" xlink:href=\"#DejaVuSans-Bold-81\"/>\n       <use x=\"363.330078\" xlink:href=\"#DejaVuSans-Bold-49\"/>\n      </g>\n     </g>\n    </g>\n    <g id=\"xtick_3\">\n     <g id=\"line2d_3\">\n      <g>\n       <use style=\"stroke:#000000;stroke-width:0.8;\" x=\"96.93631\" xlink:href=\"#m32ebfffdb0\" y=\"224.64\"/>\n      </g>\n     </g>\n     <g id=\"text_3\">\n      <!-- 2018Q2 -->\n      <g transform=\"translate(75.290997 239.238438)scale(0.1 -0.1)\">\n       <use xlink:href=\"#DejaVuSans-Bold-50\"/>\n       <use x=\"69.580078\" xlink:href=\"#DejaVuSans-Bold-48\"/>\n       <use x=\"139.160156\" xlink:href=\"#DejaVuSans-Bold-49\"/>\n       <use x=\"208.740234\" xlink:href=\"#DejaVuSans-Bold-56\"/>\n       <use x=\"278.320312\" xlink:href=\"#DejaVuSans-Bold-81\"/>\n       <use x=\"363.330078\" xlink:href=\"#DejaVuSans-Bold-50\"/>\n      </g>\n     </g>\n    </g>\n    <g id=\"xtick_4\">\n     <g id=\"line2d_4\">\n      <g>\n       <use style=\"stroke:#000000;stroke-width:0.8;\" x=\"121.581138\" xlink:href=\"#m32ebfffdb0\" y=\"224.64\"/>\n      </g>\n     </g>\n     <g id=\"text_4\">\n      <!-- 2018Q3 -->\n      <g transform=\"translate(99.935826 239.238438)scale(0.1 -0.1)\">\n       <use xlink:href=\"#DejaVuSans-Bold-50\"/>\n       <use x=\"69.580078\" xlink:href=\"#DejaVuSans-Bold-48\"/>\n       <use x=\"139.160156\" xlink:href=\"#DejaVuSans-Bold-49\"/>\n       <use x=\"208.740234\" xlink:href=\"#DejaVuSans-Bold-56\"/>\n       <use x=\"278.320312\" xlink:href=\"#DejaVuSans-Bold-81\"/>\n       <use x=\"363.330078\" xlink:href=\"#DejaVuSans-Bold-51\"/>\n      </g>\n     </g>\n    </g>\n    <g id=\"xtick_5\">\n     <g id=\"line2d_5\">\n      <g>\n       <use style=\"stroke:#000000;stroke-width:0.8;\" x=\"146.225967\" xlink:href=\"#m32ebfffdb0\" y=\"224.64\"/>\n      </g>\n     </g>\n     <g id=\"text_5\">\n      <!-- 2018Q4 -->\n      <g transform=\"translate(124.580655 239.238438)scale(0.1 -0.1)\">\n       <defs>\n        <path d=\"M 36.8125 57.421875 \nL 16.21875 26.90625 \nL 36.8125 26.90625 \nz\nM 33.6875 72.90625 \nL 54.59375 72.90625 \nL 54.59375 26.90625 \nL 64.984375 26.90625 \nL 64.984375 13.28125 \nL 54.59375 13.28125 \nL 54.59375 0 \nL 36.8125 0 \nL 36.8125 13.28125 \nL 4.5 13.28125 \nL 4.5 29.390625 \nz\n\" id=\"DejaVuSans-Bold-52\"/>\n       </defs>\n       <use xlink:href=\"#DejaVuSans-Bold-50\"/>\n       <use x=\"69.580078\" xlink:href=\"#DejaVuSans-Bold-48\"/>\n       <use x=\"139.160156\" xlink:href=\"#DejaVuSans-Bold-49\"/>\n       <use x=\"208.740234\" xlink:href=\"#DejaVuSans-Bold-56\"/>\n       <use x=\"278.320312\" xlink:href=\"#DejaVuSans-Bold-81\"/>\n       <use x=\"363.330078\" xlink:href=\"#DejaVuSans-Bold-52\"/>\n      </g>\n     </g>\n    </g>\n    <g id=\"xtick_6\">\n     <g id=\"line2d_6\">\n      <g>\n       <use style=\"stroke:#000000;stroke-width:0.8;\" x=\"170.870796\" xlink:href=\"#m32ebfffdb0\" y=\"224.64\"/>\n      </g>\n     </g>\n     <g id=\"text_6\">\n      <!-- 2019Q1 -->\n      <g transform=\"translate(149.225484 239.238438)scale(0.1 -0.1)\">\n       <defs>\n        <path d=\"M 10.015625 1.609375 \nL 10.015625 15.09375 \nQ 14.5 12.984375 18.59375 11.9375 \nQ 22.703125 10.890625 26.703125 10.890625 \nQ 35.109375 10.890625 39.796875 15.546875 \nQ 44.484375 20.21875 45.3125 29.390625 \nQ 42 26.953125 38.234375 25.734375 \nQ 34.46875 24.515625 30.078125 24.515625 \nQ 18.890625 24.515625 12.03125 31.03125 \nQ 5.171875 37.546875 5.171875 48.1875 \nQ 5.171875 59.96875 12.8125 67.046875 \nQ 20.453125 74.125 33.296875 74.125 \nQ 47.5625 74.125 55.375 64.5 \nQ 63.1875 54.890625 63.1875 37.3125 \nQ 63.1875 19.234375 54.046875 8.90625 \nQ 44.921875 -1.421875 29 -1.421875 \nQ 23.875 -1.421875 19.1875 -0.65625 \nQ 14.5 0.09375 10.015625 1.609375 \nz\nM 33.203125 36.71875 \nQ 38.140625 36.71875 40.625 39.90625 \nQ 43.109375 43.109375 43.109375 49.515625 \nQ 43.109375 55.859375 40.625 59.078125 \nQ 38.140625 62.3125 33.203125 62.3125 \nQ 28.265625 62.3125 25.78125 59.078125 \nQ 23.296875 55.859375 23.296875 49.515625 \nQ 23.296875 43.109375 25.78125 39.90625 \nQ 28.265625 36.71875 33.203125 36.71875 \nz\n\" id=\"DejaVuSans-Bold-57\"/>\n       </defs>\n       <use xlink:href=\"#DejaVuSans-Bold-50\"/>\n       <use x=\"69.580078\" xlink:href=\"#DejaVuSans-Bold-48\"/>\n       <use x=\"139.160156\" xlink:href=\"#DejaVuSans-Bold-49\"/>\n       <use x=\"208.740234\" xlink:href=\"#DejaVuSans-Bold-57\"/>\n       <use x=\"278.320312\" xlink:href=\"#DejaVuSans-Bold-81\"/>\n       <use x=\"363.330078\" xlink:href=\"#DejaVuSans-Bold-49\"/>\n      </g>\n     </g>\n    </g>\n    <g id=\"xtick_7\">\n     <g id=\"line2d_7\">\n      <g>\n       <use style=\"stroke:#000000;stroke-width:0.8;\" x=\"195.515625\" xlink:href=\"#m32ebfffdb0\" y=\"224.64\"/>\n      </g>\n     </g>\n     <g id=\"text_7\">\n      <!-- 2019Q2 -->\n      <g transform=\"translate(173.870313 239.238438)scale(0.1 -0.1)\">\n       <use xlink:href=\"#DejaVuSans-Bold-50\"/>\n       <use x=\"69.580078\" xlink:href=\"#DejaVuSans-Bold-48\"/>\n       <use x=\"139.160156\" xlink:href=\"#DejaVuSans-Bold-49\"/>\n       <use x=\"208.740234\" xlink:href=\"#DejaVuSans-Bold-57\"/>\n       <use x=\"278.320312\" xlink:href=\"#DejaVuSans-Bold-81\"/>\n       <use x=\"363.330078\" xlink:href=\"#DejaVuSans-Bold-50\"/>\n      </g>\n     </g>\n    </g>\n    <g id=\"xtick_8\">\n     <g id=\"line2d_8\">\n      <g>\n       <use style=\"stroke:#000000;stroke-width:0.8;\" x=\"220.160454\" xlink:href=\"#m32ebfffdb0\" y=\"224.64\"/>\n      </g>\n     </g>\n     <g id=\"text_8\">\n      <!-- 2019Q3 -->\n      <g transform=\"translate(198.515141 239.238438)scale(0.1 -0.1)\">\n       <use xlink:href=\"#DejaVuSans-Bold-50\"/>\n       <use x=\"69.580078\" xlink:href=\"#DejaVuSans-Bold-48\"/>\n       <use x=\"139.160156\" xlink:href=\"#DejaVuSans-Bold-49\"/>\n       <use x=\"208.740234\" xlink:href=\"#DejaVuSans-Bold-57\"/>\n       <use x=\"278.320312\" xlink:href=\"#DejaVuSans-Bold-81\"/>\n       <use x=\"363.330078\" xlink:href=\"#DejaVuSans-Bold-51\"/>\n      </g>\n     </g>\n    </g>\n    <g id=\"xtick_9\">\n     <g id=\"line2d_9\">\n      <g>\n       <use style=\"stroke:#000000;stroke-width:0.8;\" x=\"244.805283\" xlink:href=\"#m32ebfffdb0\" y=\"224.64\"/>\n      </g>\n     </g>\n     <g id=\"text_9\">\n      <!-- 2019Q4 -->\n      <g transform=\"translate(223.15997 239.238438)scale(0.1 -0.1)\">\n       <use xlink:href=\"#DejaVuSans-Bold-50\"/>\n       <use x=\"69.580078\" xlink:href=\"#DejaVuSans-Bold-48\"/>\n       <use x=\"139.160156\" xlink:href=\"#DejaVuSans-Bold-49\"/>\n       <use x=\"208.740234\" xlink:href=\"#DejaVuSans-Bold-57\"/>\n       <use x=\"278.320312\" xlink:href=\"#DejaVuSans-Bold-81\"/>\n       <use x=\"363.330078\" xlink:href=\"#DejaVuSans-Bold-52\"/>\n      </g>\n     </g>\n    </g>\n    <g id=\"xtick_10\">\n     <g id=\"line2d_10\">\n      <g>\n       <use style=\"stroke:#000000;stroke-width:0.8;\" x=\"269.450112\" xlink:href=\"#m32ebfffdb0\" y=\"224.64\"/>\n      </g>\n     </g>\n     <g id=\"text_10\">\n      <!-- 2020Q1 -->\n      <g transform=\"translate(247.804799 239.238438)scale(0.1 -0.1)\">\n       <use xlink:href=\"#DejaVuSans-Bold-50\"/>\n       <use x=\"69.580078\" xlink:href=\"#DejaVuSans-Bold-48\"/>\n       <use x=\"139.160156\" xlink:href=\"#DejaVuSans-Bold-50\"/>\n       <use x=\"208.740234\" xlink:href=\"#DejaVuSans-Bold-48\"/>\n       <use x=\"278.320312\" xlink:href=\"#DejaVuSans-Bold-81\"/>\n       <use x=\"363.330078\" xlink:href=\"#DejaVuSans-Bold-49\"/>\n      </g>\n     </g>\n    </g>\n    <g id=\"xtick_11\">\n     <g id=\"line2d_11\">\n      <g>\n       <use style=\"stroke:#000000;stroke-width:0.8;\" x=\"294.09494\" xlink:href=\"#m32ebfffdb0\" y=\"224.64\"/>\n      </g>\n     </g>\n     <g id=\"text_11\">\n      <!-- 2020Q2 -->\n      <g transform=\"translate(272.449628 239.238438)scale(0.1 -0.1)\">\n       <use xlink:href=\"#DejaVuSans-Bold-50\"/>\n       <use x=\"69.580078\" xlink:href=\"#DejaVuSans-Bold-48\"/>\n       <use x=\"139.160156\" xlink:href=\"#DejaVuSans-Bold-50\"/>\n       <use x=\"208.740234\" xlink:href=\"#DejaVuSans-Bold-48\"/>\n       <use x=\"278.320312\" xlink:href=\"#DejaVuSans-Bold-81\"/>\n       <use x=\"363.330078\" xlink:href=\"#DejaVuSans-Bold-50\"/>\n      </g>\n     </g>\n    </g>\n    <g id=\"xtick_12\">\n     <g id=\"line2d_12\">\n      <g>\n       <use style=\"stroke:#000000;stroke-width:0.8;\" x=\"318.739769\" xlink:href=\"#m32ebfffdb0\" y=\"224.64\"/>\n      </g>\n     </g>\n     <g id=\"text_12\">\n      <!-- 2020Q3 -->\n      <g transform=\"translate(297.094457 239.238438)scale(0.1 -0.1)\">\n       <use xlink:href=\"#DejaVuSans-Bold-50\"/>\n       <use x=\"69.580078\" xlink:href=\"#DejaVuSans-Bold-48\"/>\n       <use x=\"139.160156\" xlink:href=\"#DejaVuSans-Bold-50\"/>\n       <use x=\"208.740234\" xlink:href=\"#DejaVuSans-Bold-48\"/>\n       <use x=\"278.320312\" xlink:href=\"#DejaVuSans-Bold-81\"/>\n       <use x=\"363.330078\" xlink:href=\"#DejaVuSans-Bold-51\"/>\n      </g>\n     </g>\n    </g>\n    <g id=\"xtick_13\">\n     <g id=\"line2d_13\">\n      <g>\n       <use style=\"stroke:#000000;stroke-width:0.8;\" x=\"343.384598\" xlink:href=\"#m32ebfffdb0\" y=\"224.64\"/>\n      </g>\n     </g>\n     <g id=\"text_13\">\n      <!-- 2020Q4 -->\n      <g transform=\"translate(321.739286 239.238438)scale(0.1 -0.1)\">\n       <use xlink:href=\"#DejaVuSans-Bold-50\"/>\n       <use x=\"69.580078\" xlink:href=\"#DejaVuSans-Bold-48\"/>\n       <use x=\"139.160156\" xlink:href=\"#DejaVuSans-Bold-50\"/>\n       <use x=\"208.740234\" xlink:href=\"#DejaVuSans-Bold-48\"/>\n       <use x=\"278.320312\" xlink:href=\"#DejaVuSans-Bold-81\"/>\n       <use x=\"363.330078\" xlink:href=\"#DejaVuSans-Bold-52\"/>\n      </g>\n     </g>\n    </g>\n    <g id=\"text_14\">\n     <!-- Quarter -->\n     <g transform=\"translate(176.199219 252.916563)scale(0.1 -0.1)\">\n      <defs>\n       <path d=\"M 39.40625 66.21875 \nQ 28.65625 66.21875 22.328125 58.203125 \nQ 16.015625 50.203125 16.015625 36.375 \nQ 16.015625 22.609375 22.328125 14.59375 \nQ 28.65625 6.59375 39.40625 6.59375 \nQ 50.140625 6.59375 56.421875 14.59375 \nQ 62.703125 22.609375 62.703125 36.375 \nQ 62.703125 50.203125 56.421875 58.203125 \nQ 50.140625 66.21875 39.40625 66.21875 \nz\nM 53.21875 1.3125 \nL 66.21875 -12.890625 \nL 54.296875 -12.890625 \nL 43.5 -1.21875 \nQ 41.890625 -1.3125 41.03125 -1.359375 \nQ 40.1875 -1.421875 39.40625 -1.421875 \nQ 24.03125 -1.421875 14.8125 8.859375 \nQ 5.609375 19.140625 5.609375 36.375 \nQ 5.609375 53.65625 14.8125 63.9375 \nQ 24.03125 74.21875 39.40625 74.21875 \nQ 54.734375 74.21875 63.90625 63.9375 \nQ 73.09375 53.65625 73.09375 36.375 \nQ 73.09375 23.6875 67.984375 14.640625 \nQ 62.890625 5.609375 53.21875 1.3125 \nz\n\" id=\"DejaVuSans-81\"/>\n       <path d=\"M 8.5 21.578125 \nL 8.5 54.6875 \nL 17.484375 54.6875 \nL 17.484375 21.921875 \nQ 17.484375 14.15625 20.5 10.265625 \nQ 23.53125 6.390625 29.59375 6.390625 \nQ 36.859375 6.390625 41.078125 11.03125 \nQ 45.3125 15.671875 45.3125 23.6875 \nL 45.3125 54.6875 \nL 54.296875 54.6875 \nL 54.296875 0 \nL 45.3125 0 \nL 45.3125 8.40625 \nQ 42.046875 3.421875 37.71875 1 \nQ 33.40625 -1.421875 27.6875 -1.421875 \nQ 18.265625 -1.421875 13.375 4.4375 \nQ 8.5 10.296875 8.5 21.578125 \nz\nM 31.109375 56 \nz\n\" id=\"DejaVuSans-117\"/>\n       <path d=\"M 34.28125 27.484375 \nQ 23.390625 27.484375 19.1875 25 \nQ 14.984375 22.515625 14.984375 16.5 \nQ 14.984375 11.71875 18.140625 8.90625 \nQ 21.296875 6.109375 26.703125 6.109375 \nQ 34.1875 6.109375 38.703125 11.40625 \nQ 43.21875 16.703125 43.21875 25.484375 \nL 43.21875 27.484375 \nz\nM 52.203125 31.203125 \nL 52.203125 0 \nL 43.21875 0 \nL 43.21875 8.296875 \nQ 40.140625 3.328125 35.546875 0.953125 \nQ 30.953125 -1.421875 24.3125 -1.421875 \nQ 15.921875 -1.421875 10.953125 3.296875 \nQ 6 8.015625 6 15.921875 \nQ 6 25.140625 12.171875 29.828125 \nQ 18.359375 34.515625 30.609375 34.515625 \nL 43.21875 34.515625 \nL 43.21875 35.40625 \nQ 43.21875 41.609375 39.140625 45 \nQ 35.0625 48.390625 27.6875 48.390625 \nQ 23 48.390625 18.546875 47.265625 \nQ 14.109375 46.140625 10.015625 43.890625 \nL 10.015625 52.203125 \nQ 14.9375 54.109375 19.578125 55.046875 \nQ 24.21875 56 28.609375 56 \nQ 40.484375 56 46.34375 49.84375 \nQ 52.203125 43.703125 52.203125 31.203125 \nz\n\" id=\"DejaVuSans-97\"/>\n       <path d=\"M 41.109375 46.296875 \nQ 39.59375 47.171875 37.8125 47.578125 \nQ 36.03125 48 33.890625 48 \nQ 26.265625 48 22.1875 43.046875 \nQ 18.109375 38.09375 18.109375 28.8125 \nL 18.109375 0 \nL 9.078125 0 \nL 9.078125 54.6875 \nL 18.109375 54.6875 \nL 18.109375 46.1875 \nQ 20.953125 51.171875 25.484375 53.578125 \nQ 30.03125 56 36.53125 56 \nQ 37.453125 56 38.578125 55.875 \nQ 39.703125 55.765625 41.0625 55.515625 \nz\n\" id=\"DejaVuSans-114\"/>\n       <path d=\"M 18.3125 70.21875 \nL 18.3125 54.6875 \nL 36.8125 54.6875 \nL 36.8125 47.703125 \nL 18.3125 47.703125 \nL 18.3125 18.015625 \nQ 18.3125 11.328125 20.140625 9.421875 \nQ 21.96875 7.515625 27.59375 7.515625 \nL 36.8125 7.515625 \nL 36.8125 0 \nL 27.59375 0 \nQ 17.1875 0 13.234375 3.875 \nQ 9.28125 7.765625 9.28125 18.015625 \nL 9.28125 47.703125 \nL 2.6875 47.703125 \nL 2.6875 54.6875 \nL 9.28125 54.6875 \nL 9.28125 70.21875 \nz\n\" id=\"DejaVuSans-116\"/>\n       <path d=\"M 56.203125 29.59375 \nL 56.203125 25.203125 \nL 14.890625 25.203125 \nQ 15.484375 15.921875 20.484375 11.0625 \nQ 25.484375 6.203125 34.421875 6.203125 \nQ 39.59375 6.203125 44.453125 7.46875 \nQ 49.3125 8.734375 54.109375 11.28125 \nL 54.109375 2.78125 \nQ 49.265625 0.734375 44.1875 -0.34375 \nQ 39.109375 -1.421875 33.890625 -1.421875 \nQ 20.796875 -1.421875 13.15625 6.1875 \nQ 5.515625 13.8125 5.515625 26.8125 \nQ 5.515625 40.234375 12.765625 48.109375 \nQ 20.015625 56 32.328125 56 \nQ 43.359375 56 49.78125 48.890625 \nQ 56.203125 41.796875 56.203125 29.59375 \nz\nM 47.21875 32.234375 \nQ 47.125 39.59375 43.09375 43.984375 \nQ 39.0625 48.390625 32.421875 48.390625 \nQ 24.90625 48.390625 20.390625 44.140625 \nQ 15.875 39.890625 15.1875 32.171875 \nz\n\" id=\"DejaVuSans-101\"/>\n      </defs>\n      <use xlink:href=\"#DejaVuSans-81\"/>\n      <use x=\"78.710938\" xlink:href=\"#DejaVuSans-117\"/>\n      <use x=\"142.089844\" xlink:href=\"#DejaVuSans-97\"/>\n      <use x=\"203.369141\" xlink:href=\"#DejaVuSans-114\"/>\n      <use x=\"244.482422\" xlink:href=\"#DejaVuSans-116\"/>\n      <use x=\"283.691406\" xlink:href=\"#DejaVuSans-101\"/>\n      <use x=\"345.214844\" xlink:href=\"#DejaVuSans-114\"/>\n     </g>\n    </g>\n   </g>\n   <g id=\"matplotlib.axis_2\">\n    <g id=\"ytick_1\">\n     <g id=\"line2d_14\">\n      <defs>\n       <path d=\"M 0 0 \nL -3.5 0 \n\" id=\"m663c92466c\" style=\"stroke:#000000;stroke-width:0.8;\"/>\n      </defs>\n      <g>\n       <use style=\"stroke:#000000;stroke-width:0.8;\" x=\"28.115625\" xlink:href=\"#m663c92466c\" y=\"224.64\"/>\n      </g>\n     </g>\n     <g id=\"text_15\">\n      <!-- 0 -->\n      <g transform=\"translate(14.157813 228.439219)scale(0.1 -0.1)\">\n       <use xlink:href=\"#DejaVuSans-Bold-48\"/>\n      </g>\n     </g>\n    </g>\n    <g id=\"ytick_2\">\n     <g id=\"line2d_15\">\n      <g>\n       <use style=\"stroke:#000000;stroke-width:0.8;\" x=\"28.115625\" xlink:href=\"#m663c92466c\" y=\"183.222857\"/>\n      </g>\n     </g>\n     <g id=\"text_16\">\n      <!-- 10 -->\n      <g transform=\"translate(7.2 187.022076)scale(0.1 -0.1)\">\n       <use xlink:href=\"#DejaVuSans-Bold-49\"/>\n       <use x=\"69.580078\" xlink:href=\"#DejaVuSans-Bold-48\"/>\n      </g>\n     </g>\n    </g>\n    <g id=\"ytick_3\">\n     <g id=\"line2d_16\">\n      <g>\n       <use style=\"stroke:#000000;stroke-width:0.8;\" x=\"28.115625\" xlink:href=\"#m663c92466c\" y=\"141.805714\"/>\n      </g>\n     </g>\n     <g id=\"text_17\">\n      <!-- 20 -->\n      <g transform=\"translate(7.2 145.604933)scale(0.1 -0.1)\">\n       <use xlink:href=\"#DejaVuSans-Bold-50\"/>\n       <use x=\"69.580078\" xlink:href=\"#DejaVuSans-Bold-48\"/>\n      </g>\n     </g>\n    </g>\n    <g id=\"ytick_4\">\n     <g id=\"line2d_17\">\n      <g>\n       <use style=\"stroke:#000000;stroke-width:0.8;\" x=\"28.115625\" xlink:href=\"#m663c92466c\" y=\"100.388571\"/>\n      </g>\n     </g>\n     <g id=\"text_18\">\n      <!-- 30 -->\n      <g transform=\"translate(7.2 104.18779)scale(0.1 -0.1)\">\n       <use xlink:href=\"#DejaVuSans-Bold-51\"/>\n       <use x=\"69.580078\" xlink:href=\"#DejaVuSans-Bold-48\"/>\n      </g>\n     </g>\n    </g>\n    <g id=\"ytick_5\">\n     <g id=\"line2d_18\">\n      <g>\n       <use style=\"stroke:#000000;stroke-width:0.8;\" x=\"28.115625\" xlink:href=\"#m663c92466c\" y=\"58.971429\"/>\n      </g>\n     </g>\n     <g id=\"text_19\">\n      <!-- 40 -->\n      <g transform=\"translate(7.2 62.770647)scale(0.1 -0.1)\">\n       <use xlink:href=\"#DejaVuSans-Bold-52\"/>\n       <use x=\"69.580078\" xlink:href=\"#DejaVuSans-Bold-48\"/>\n      </g>\n     </g>\n    </g>\n    <g id=\"ytick_6\">\n     <g id=\"line2d_19\">\n      <g>\n       <use style=\"stroke:#000000;stroke-width:0.8;\" x=\"28.115625\" xlink:href=\"#m663c92466c\" y=\"17.554286\"/>\n      </g>\n     </g>\n     <g id=\"text_20\">\n      <!-- 50 -->\n      <g transform=\"translate(7.2 21.353504)scale(0.1 -0.1)\">\n       <defs>\n        <path d=\"M 10.59375 72.90625 \nL 57.328125 72.90625 \nL 57.328125 59.078125 \nL 25.59375 59.078125 \nL 25.59375 47.796875 \nQ 27.734375 48.390625 29.90625 48.703125 \nQ 32.078125 49.03125 34.421875 49.03125 \nQ 47.75 49.03125 55.171875 42.359375 \nQ 62.59375 35.6875 62.59375 23.78125 \nQ 62.59375 11.96875 54.515625 5.265625 \nQ 46.4375 -1.421875 32.078125 -1.421875 \nQ 25.875 -1.421875 19.796875 -0.21875 \nQ 13.71875 0.984375 7.71875 3.421875 \nL 7.71875 18.21875 \nQ 13.671875 14.796875 19.015625 13.078125 \nQ 24.359375 11.375 29.109375 11.375 \nQ 35.9375 11.375 39.859375 14.71875 \nQ 43.796875 18.0625 43.796875 23.78125 \nQ 43.796875 29.546875 39.859375 32.859375 \nQ 35.9375 36.1875 29.109375 36.1875 \nQ 25.046875 36.1875 20.453125 35.125 \nQ 15.875 34.078125 10.59375 31.890625 \nz\n\" id=\"DejaVuSans-Bold-53\"/>\n       </defs>\n       <use xlink:href=\"#DejaVuSans-Bold-53\"/>\n       <use x=\"69.580078\" xlink:href=\"#DejaVuSans-Bold-48\"/>\n      </g>\n     </g>\n    </g>\n   </g>\n   <g id=\"patch_42\">\n    <path d=\"M 28.115625 224.64 \nL 28.115625 7.2 \n\" style=\"fill:none;stroke:#000000;stroke-linecap:square;stroke-linejoin:miter;stroke-width:0.8;\"/>\n   </g>\n   <g id=\"patch_43\">\n    <path d=\"M 362.915625 224.64 \nL 362.915625 7.2 \n\" style=\"fill:none;stroke:#000000;stroke-linecap:square;stroke-linejoin:miter;stroke-width:0.8;\"/>\n   </g>\n   <g id=\"patch_44\">\n    <path d=\"M 28.115625 224.64 \nL 362.915625 224.64 \n\" style=\"fill:none;stroke:#000000;stroke-linecap:square;stroke-linejoin:miter;stroke-width:0.8;\"/>\n   </g>\n   <g id=\"patch_45\">\n    <path d=\"M 28.115625 7.2 \nL 362.915625 7.2 \n\" style=\"fill:none;stroke:#000000;stroke-linecap:square;stroke-linejoin:miter;stroke-width:0.8;\"/>\n   </g>\n  </g>\n </g>\n <defs>\n  <clipPath id=\"pcde4964c21\">\n   <rect height=\"217.44\" width=\"334.8\" x=\"28.115625\" y=\"7.2\"/>\n  </clipPath>\n </defs>\n</svg>\n",
      "image/png": "[encoded data removed]"
     },
     "metadata": {
      "needs_background": "light"
     }
    }
   ],
   "source": [
    "# Values of each group\n",
    "\n",
    "bars1 = list(df_final['One Pager'].values)\n",
    "bars2 = list(df_final['Invested'].values)\n",
    "bars3 = list(df_final['Term Sheet'].values)\n",
    "\n",
    " \n",
    "# Heights of bars1 + bars2\n",
    "bars = np.add(bars1, bars2).tolist()\n",
    " \n",
    "# The position of the bars on the x-axis\n",
    "r = list(np.arange(13))\n",
    " \n",
    "# Names of group and bar width\n",
    "names = list(df_final['Quarter'].astype(str))\n",
    "barWidth = 0.35\n",
    " \n",
    "# Create brown bars\n",
    "plt.bar(r, bars1, color='red', edgecolor='white', width=barWidth)\n",
    "# Create green bars (middle), on top of the firs ones\n",
    "plt.bar(r, bars2, bottom=bars1, color='green', edgecolor='white', width=barWidth)\n",
    "# Create green bars (top)\n",
    "plt.bar(r, bars3, bottom=bars, color='blue', edgecolor='white', width=barWidth)\n",
    " \n",
    "# Custom X axis\n",
    "plt.xticks(r, names, fontweight='bold')\n",
    "plt.xlabel(\"Quarter\")\n",
    " \n",
    "# Show graphic\n",
    "plt.show()\n"
   ]
  },
  {
   "cell_type": "code",
   "execution_count": null,
   "metadata": {},
   "outputs": [],
   "source": []
  }
 ]
}