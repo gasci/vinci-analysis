{
 "metadata": {
  "language_info": {
   "codemirror_mode": {
    "name": "ipython",
    "version": 3
   },
   "file_extension": ".py",
   "mimetype": "text/x-python",
   "name": "python",
   "nbconvert_exporter": "python",
   "pygments_lexer": "ipython3",
   "version": "3.8.5-final"
  },
  "orig_nbformat": 2,
  "kernelspec": {
   "name": "python3",
   "display_name": "Python 3.8.5 64-bit ('env')",
   "metadata": {
    "interpreter": {
     "hash": "51da6c8bb7e6c992b980497d585c5701cdf791fcbbfe6dc9056c3f444d0f18f3"
    }
   }
  }
 },
 "nbformat": 4,
 "nbformat_minor": 2,
 "cells": [
  {
   "cell_type": "code",
   "execution_count": null,
   "metadata": {},
   "outputs": [],
   "source": [
    "import pandas as pd\n",
    "import numpy as np\n",
    "import matplotlib.pyplot as plt\n",
    "#from pandas_profiling import ProfileReport\n",
    "import plotly.figure_factory as ff\n",
    "import plotly.graph_objects as go\n",
    "import datetime \n",
    "from dateutil.parser import parse\n",
    "import nbformat"
   ]
  },
  {
   "cell_type": "code",
   "execution_count": null,
   "metadata": {},
   "outputs": [],
   "source": [
    "#mass index modifier\n",
    "def set_indexes(dfs, index_list):\n",
    "    for df, index in zip(dfs, index_list):\n",
    "        df.set_index(index, inplace=True, drop=True)\n",
    "\n",
    "def keyword_calculator(df, sector_name, exclude, include):\n",
    "    print('Sector name: {}'.format(sector_name))\n",
    "    #data cleansing\n",
    "    temp_df = df[['Sub-sector']][df['Sector'] == sector_name]\n",
    "    temp_list = list(temp_df['Sub-sector'].values)\n",
    "    #add included values\n",
    "    temp_list.extend(include)\n",
    "\n",
    "    #remove excluded values\n",
    "    temp_list = [x for x in temp_list if x not in exclude]\n",
    "\n",
    "    result_list = list(dict.fromkeys(temp_list))\n",
    "    #print the item count\n",
    "    print('Item count: {}'.format(len(result_list)))\n",
    "    print(result_list)\n",
    "    #put a seperator\n",
    "    print('----------------------------------\\n')\n",
    "\n",
    "def stack_histogram_creator(col_name_x, col_name_y, types_array, nbins, title, output_name):\n",
    "\n",
    "    fig = go.Figure()\n",
    "\n",
    "    pipeline.sort_values(by=['Date'] , ascending=True, inplace=True)\n",
    "\n",
    "    for item in types_array:\n",
    "        temp_df = pipeline[pipeline[col_name_x] == item]\n",
    "        fig.add_trace(go.Histogram(x=temp_df[col_name_y], name=item, nbinsx=nbins, cumulative_enabled=True))\n",
    "    \n",
    "    fig.update_layout(barmode='stack')\n",
    "    fig.update_layout(title_text=title, title_x=0.7, title_y=0.92, xaxis_title='Time', yaxis_title=col_name_x)\n",
    "    fig.write_html(os.path.join(REPORT_FOLDER, output_name))\n",
    "    fig.show()"
   ]
  },
  {
   "cell_type": "code",
   "execution_count": null,
   "metadata": {},
   "outputs": [],
   "source": [
    "RAW_DATA_FOLDER = 'data/raw/'\n",
    "OUTPUT_DATA_FOLDER = 'data/output/'\n",
    "REPORT_FOLDER = 'reports/'\n",
    "\n",
    "#sectors and countries that we are interested\n",
    "sector_list = ['Energy Storage & Management', 'Industry 4.0', 'Mobility & Automotive', 'Supply Chain & Logistics', 'Other']\n",
    "country_list = ['Germany', 'Turkey', 'United Kingdom', 'Other']\n",
    "\n",
    "pipeline = pd.read_csv(os.path.join(RAW_DATA_FOLDER, 'pipeline.csv'))\n",
    "\n",
    "#set_indexes([energy, industry, sc_logistics, mobility], [\"id\", \"id\", \"id\", \"id\"])"
   ]
  },
  {
   "cell_type": "code",
   "execution_count": null,
   "metadata": {},
   "outputs": [],
   "source": [
    "#standardize the date input\n",
    "pipeline.rename(columns={'Day Created': 'Date'}, inplace=True)\n",
    "pipeline['Date'] = pipeline['Date'].str.replace('.', '-')\n",
    "pipeline['Date'] = pipeline['Date'].str.replace('/', '-')\n",
    "pipeline.loc[~pipeline['Country'].isin(country_list), 'Country'] = 'Other'\n",
    "#get rid of irrelevant rows\n",
    "pipeline.dropna(subset = ['Sector'], inplace=True)\n",
    "#adjust time format\n",
    "pipeline[\"Date\"] = pd.to_datetime(pipeline[\"Date\"]).dt.strftime('%Y-%m-%d')\n",
    "pipeline[\"Date\"] = pipeline[\"Date\"].apply(lambda x : parse(x))\n",
    "#def quater_creator(df):\n",
    "pipeline[\"Quarter\"] = pipeline[\"Date\"].dt.to_period(\"Q\")"
   ]
  },
  {
   "cell_type": "code",
   "execution_count": null,
   "metadata": {},
   "outputs": [],
   "source": [
    "#def quater_creator(df):\n",
    "pipeline[\"Quarter\"] = pipeline[\"Date\"].dt.to_period(\"Q\")\n"
   ]
  },
  {
   "cell_type": "code",
   "execution_count": null,
   "metadata": {},
   "outputs": [],
   "source": [
    "pipeline[['Name', 'Sector', 'Country', 'Date', 'Quarter', 'Origination Type']].sort_values(by=['Date'] , ascending=True)"
   ]
  },
  {
   "cell_type": "code",
   "execution_count": null,
   "metadata": {},
   "outputs": [],
   "source": [
    "pipeline['Quarter'] = pipeline['Quarter'].astype('str')"
   ]
  },
  {
   "cell_type": "code",
   "execution_count": null,
   "metadata": {},
   "outputs": [],
   "source": [
    "#pipeline = pipeline.groupby(['Origination Type','Quarter']).size().to_frame('size').reset_index()"
   ]
  },
  {
   "cell_type": "code",
   "execution_count": null,
   "metadata": {},
   "outputs": [],
   "source": [
    "pipeline['Origination Type']"
   ]
  },
  {
   "cell_type": "code",
   "execution_count": null,
   "metadata": {},
   "outputs": [],
   "source": [
    "stack_histogram_creator('Origination Type', 'Quarter', list(pipeline['Origination Type'].unique()), 10, 'Distribution', 'country_per_date.html')\n",
    "#stack_histogram_creator('Country', 'Date', country_list, 10, 'Country Distribution over Time', 'country_per_date.html')"
   ]
  },
  {
   "cell_type": "code",
   "execution_count": null,
   "metadata": {},
   "outputs": [],
   "source": [
    "#stack_histogram_creator('Sector', 'Date', sector_list, 1000, 'Sector Distribution over Time', 'sector_per_date.html')"
   ]
  },
  {
   "cell_type": "code",
   "execution_count": null,
   "metadata": {},
   "outputs": [],
   "source": [
    "#keep these arrays in case they are needed\n",
    "sector_list = ['Energy', 'Industry 4.0', 'Mobility', 'Supply Chain']\n",
    "country_list = ['Germany', 'Turkey', 'United Kingdom']"
   ]
  },
  {
   "cell_type": "code",
   "execution_count": null,
   "metadata": {},
   "outputs": [],
   "source": [
    "#remove all NaN values\n",
    "pipeline.dropna(subset = ['Sub-sector'], inplace=True)\n",
    "pipeline['Sub-sector'] = pipeline['Sub-sector'].str.lower()"
   ]
  },
  {
   "cell_type": "code",
   "execution_count": null,
   "metadata": {},
   "outputs": [],
   "source": [
    "#drop all Other columns\n",
    "pipeline.drop(pipeline[pipeline['Sector'] == 'Other'].index, inplace=True)\n",
    "pipeline.drop_duplicates(subset='Sub-sector', keep=\"first\", inplace=True)"
   ]
  },
  {
   "cell_type": "code",
   "execution_count": null,
   "metadata": {},
   "outputs": [],
   "source": [
    "#observe different sectors\n",
    "sector_list = pipeline['Sector'].unique()\n",
    "\n",
    "#empty array to fill afterwards\n",
    "exclude_include_data = [[[], []], [[], []], [[], []], [[], []]]\n",
    "\n",
    "##No repeating keywords !!!\n",
    "#Energy Storage & Management\n",
    "#exclude [0]\n",
    "exclude_include_data[0][0] = ['']\n",
    "#include [1]\n",
    "exclude_include_data[0][1] = ['battery', 'grid', 'electric vehicle charging']\n",
    "\n",
    "#Mobility & Automotive\n",
    "exclude_include_data[1][0] = ['data privacy', 'image recognition', 'electric vehicles']\n",
    "exclude_include_data[1][1] = ['mobility', 'electric vehicle' , 'charging' ,'micromobility', 'bike', 'mobility as a service']\n",
    "\n",
    "#Supply Chain & Logistics\n",
    "exclude_include_data[2][0] = ['nlp / semantic-tech', 'semantic-tech', 'nlp', 'e-commerce ']\n",
    "exclude_include_data[2][1] = ['blockchain', 'traceability', 'drone', 'freight forwarding', 'automated guided vehicle']\n",
    "\n",
    "#Industry 4.0\n",
    "exclude_include_data[3][0] = ['healthcare', 'display']\n",
    "exclude_include_data[3][1] = ['augmented reality', 'virtual reality', 'manufacturing', 'low code ai', 'no code ai']"
   ]
  },
  {
   "cell_type": "code",
   "execution_count": null,
   "metadata": {},
   "outputs": [],
   "source": [
    "for sector, exclude_include_datum in zip(list(sector_list), exclude_include_data):\n",
    "    keyword_calculator(pipeline, sector, exclude_include_datum[0], exclude_include_datum[1])"
   ]
  },
  {
   "cell_type": "code",
   "execution_count": null,
   "metadata": {},
   "outputs": [],
   "source": []
  },
  {
   "cell_type": "code",
   "execution_count": null,
   "metadata": {},
   "outputs": [],
   "source": []
  }
 ]
}