{
 "metadata": {
  "language_info": {
   "codemirror_mode": {
    "name": "ipython",
    "version": 3
   },
   "file_extension": ".py",
   "mimetype": "text/x-python",
   "name": "python",
   "nbconvert_exporter": "python",
   "pygments_lexer": "ipython3",
   "version": "3.8.5-final"
  },
  "orig_nbformat": 2,
  "kernelspec": {
   "name": "python3",
   "display_name": "Python 3.8.5 64-bit ('env')",
   "metadata": {
    "interpreter": {
     "hash": "51da6c8bb7e6c992b980497d585c5701cdf791fcbbfe6dc9056c3f444d0f18f3"
    }
   }
  }
 },
 "nbformat": 4,
 "nbformat_minor": 2,
 "cells": [
  {
   "cell_type": "code",
   "execution_count": 13,
   "metadata": {},
   "outputs": [],
   "source": [
    "import pandas as pd\n",
    "import numpy as np\n",
    "import matplotlib.pyplot as plt\n",
    "#from pandas_profiling import ProfileReport\n",
    "import plotly.figure_factory as ff\n",
    "import plotly.graph_objects as go\n",
    "import datetime \n",
    "from dateutil.parser import parse\n",
    "import nbformat"
   ]
  },
  {
   "cell_type": "code",
   "execution_count": 29,
   "metadata": {},
   "outputs": [],
   "source": [
    "#mass index modifier\n",
    "def set_indexes(dfs, index_list):\n",
    "    for df, index in zip(dfs, index_list):\n",
    "        df.set_index(index, inplace=True, drop=True)\n",
    "\n",
    "def keyword_calculator(df, sector_name, exclude, include):\n",
    "    print('Sector name: {}'.format(sector_name))\n",
    "    #data cleansing\n",
    "    temp_df = df[['Sub-sector']][df['Sector'] == sector_name]\n",
    "    temp_list = list(temp_df['Sub-sector'].values)\n",
    "    #add included values\n",
    "    temp_list.extend(include)\n",
    "\n",
    "    #remove excluded values\n",
    "    temp_list = [x for x in temp_list if x not in exclude]\n",
    "\n",
    "    result_list = list(dict.fromkeys(temp_list))\n",
    "    #print the item count\n",
    "    print('Item count: {}'.format(len(result_list)))\n",
    "    print(result_list)\n",
    "    #put a seperator\n",
    "    print('----------------------------------\\n')\n",
    "\n",
    "def stack_histogram_creator(col_name_x, col_name_y, types_array, nbins, title, output_name):\n",
    "\n",
    "    fig = go.Figure()\n",
    "\n",
    "    pipeline.sort_values(by=['Date'] , ascending=True, inplace=True)\n",
    "\n",
    "    for item in types_array:\n",
    "        temp_df = pipeline[pipeline[col_name_x] == item]\n",
    "        fig.add_trace(go.Histogram(x=temp_df[col_name_y], name=item, nbinsx=nbins, cumulative_enabled=True))\n",
    "    \n",
    "    fig.update_layout(barmode='stack')\n",
    "    fig.update_layout(title_text=title, title_x=0.7, title_y=0.92, xaxis_title='Time', yaxis_title=col_name_x)\n",
    "    fig.write_html(os.path.join(REPORT_FOLDER, output_name))\n",
    "    fig.show()"
   ]
  },
  {
   "cell_type": "code",
   "execution_count": 15,
   "metadata": {},
   "outputs": [],
   "source": [
    "RAW_DATA_FOLDER = 'data/raw/'\n",
    "OUTPUT_DATA_FOLDER = 'data/output/'\n",
    "REPORT_FOLDER = 'reports/'\n",
    "\n",
    "#sectors and countries that we are interested\n",
    "sector_list = ['Energy Storage & Management', 'Industry 4.0', 'Mobility & Automotive', 'Supply Chain & Logistics', 'Other']\n",
    "country_list = ['Germany', 'Turkey', 'United Kingdom', 'Other']\n",
    "\n",
    "pipeline = pd.read_csv(os.path.join(RAW_DATA_FOLDER, 'pipeline.csv'))\n",
    "\n",
    "#set_indexes([energy, industry, sc_logistics, mobility], [\"id\", \"id\", \"id\", \"id\"])"
   ]
  },
  {
   "cell_type": "code",
   "execution_count": 16,
   "metadata": {},
   "outputs": [],
   "source": [
    "#standardize the date input\n",
    "pipeline.rename(columns={'Day Created': 'Date'}, inplace=True)\n",
    "pipeline['Date'] = pipeline['Date'].str.replace('.', '-')\n",
    "pipeline['Date'] = pipeline['Date'].str.replace('/', '-')\n",
    "pipeline.loc[~pipeline['Country'].isin(country_list), 'Country'] = 'Other'\n",
    "#get rid of irrelevant rows\n",
    "pipeline.dropna(subset = ['Sector'], inplace=True)\n",
    "#adjust time format\n",
    "pipeline[\"Date\"] = pd.to_datetime(pipeline[\"Date\"]).dt.strftime('%Y-%m-%d')\n",
    "pipeline[\"Date\"] = pipeline[\"Date\"].apply(lambda x : parse(x))\n",
    "#def quater_creator(df):\n",
    "pipeline[\"Quarter\"] = pipeline[\"Date\"].dt.to_period(\"Q\")"
   ]
  },
  {
   "cell_type": "code",
   "execution_count": 17,
   "metadata": {},
   "outputs": [],
   "source": [
    "#def quater_creator(df):\n",
    "pipeline[\"Quarter\"] = pipeline[\"Date\"].dt.to_period(\"Q\")\n"
   ]
  },
  {
   "cell_type": "code",
   "execution_count": 18,
   "metadata": {},
   "outputs": [
    {
     "output_type": "execute_result",
     "data": {
      "text/plain": [
       "                   Name                 Sector  Country       Date Quarter  \\\n",
       "18                Haptx                  Other    Other 2018-01-04  2018Q1   \n",
       "47               Valens  Mobility & Automotive    Other 2018-01-08  2018Q1   \n",
       "60              Alberto  Mobility & Automotive   Turkey 2018-01-10  2018Q1   \n",
       "109         Chargepoint  Mobility & Automotive    Other 2018-01-10  2018Q1   \n",
       "110             Skysens           Industry 4.0   Turkey 2018-01-10  2018Q1   \n",
       "...                 ...                    ...      ...        ...     ...   \n",
       "1045  Did U Remember To           Industry 4.0    Other 2020-12-28  2020Q4   \n",
       "1042          IB Guards                  Other  Germany 2020-12-28  2020Q4   \n",
       "1043        Covi Protec                  Other    Other 2020-12-28  2020Q4   \n",
       "1044            Comodif  Mobility & Automotive   Turkey 2020-12-28  2020Q4   \n",
       "1046    Patika Robotics           Industry 4.0   Turkey 2020-12-30  2020Q4   \n",
       "\n",
       "        Origination Type  \n",
       "18    Inbound - Partners  \n",
       "47    Inbound - Partners  \n",
       "60    Inbound - Partners  \n",
       "109   Inbound - Partners  \n",
       "110   Inbound - Partners  \n",
       "...                  ...  \n",
       "1045    Inbound - Direct  \n",
       "1042    Inbound - Direct  \n",
       "1043    Inbound - Direct  \n",
       "1044  Inbound - Partners  \n",
       "1046  Inbound - Partners  \n",
       "\n",
       "[1047 rows x 6 columns]"
      ],
      "text/html": "<div>\n<style scoped>\n    .dataframe tbody tr th:only-of-type {\n        vertical-align: middle;\n    }\n\n    .dataframe tbody tr th {\n        vertical-align: top;\n    }\n\n    .dataframe thead th {\n        text-align: right;\n    }\n</style>\n<table border=\"1\" class=\"dataframe\">\n  <thead>\n    <tr style=\"text-align: right;\">\n      <th></th>\n      <th>Name</th>\n      <th>Sector</th>\n      <th>Country</th>\n      <th>Date</th>\n      <th>Quarter</th>\n      <th>Origination Type</th>\n    </tr>\n  </thead>\n  <tbody>\n    <tr>\n      <th>18</th>\n      <td>Haptx</td>\n      <td>Other</td>\n      <td>Other</td>\n      <td>2018-01-04</td>\n      <td>2018Q1</td>\n      <td>Inbound - Partners</td>\n    </tr>\n    <tr>\n      <th>47</th>\n      <td>Valens</td>\n      <td>Mobility &amp; Automotive</td>\n      <td>Other</td>\n      <td>2018-01-08</td>\n      <td>2018Q1</td>\n      <td>Inbound - Partners</td>\n    </tr>\n    <tr>\n      <th>60</th>\n      <td>Alberto</td>\n      <td>Mobility &amp; Automotive</td>\n      <td>Turkey</td>\n      <td>2018-01-10</td>\n      <td>2018Q1</td>\n      <td>Inbound - Partners</td>\n    </tr>\n    <tr>\n      <th>109</th>\n      <td>Chargepoint</td>\n      <td>Mobility &amp; Automotive</td>\n      <td>Other</td>\n      <td>2018-01-10</td>\n      <td>2018Q1</td>\n      <td>Inbound - Partners</td>\n    </tr>\n    <tr>\n      <th>110</th>\n      <td>Skysens</td>\n      <td>Industry 4.0</td>\n      <td>Turkey</td>\n      <td>2018-01-10</td>\n      <td>2018Q1</td>\n      <td>Inbound - Partners</td>\n    </tr>\n    <tr>\n      <th>...</th>\n      <td>...</td>\n      <td>...</td>\n      <td>...</td>\n      <td>...</td>\n      <td>...</td>\n      <td>...</td>\n    </tr>\n    <tr>\n      <th>1045</th>\n      <td>Did U Remember To</td>\n      <td>Industry 4.0</td>\n      <td>Other</td>\n      <td>2020-12-28</td>\n      <td>2020Q4</td>\n      <td>Inbound - Direct</td>\n    </tr>\n    <tr>\n      <th>1042</th>\n      <td>IB Guards</td>\n      <td>Other</td>\n      <td>Germany</td>\n      <td>2020-12-28</td>\n      <td>2020Q4</td>\n      <td>Inbound - Direct</td>\n    </tr>\n    <tr>\n      <th>1043</th>\n      <td>Covi Protec</td>\n      <td>Other</td>\n      <td>Other</td>\n      <td>2020-12-28</td>\n      <td>2020Q4</td>\n      <td>Inbound - Direct</td>\n    </tr>\n    <tr>\n      <th>1044</th>\n      <td>Comodif</td>\n      <td>Mobility &amp; Automotive</td>\n      <td>Turkey</td>\n      <td>2020-12-28</td>\n      <td>2020Q4</td>\n      <td>Inbound - Partners</td>\n    </tr>\n    <tr>\n      <th>1046</th>\n      <td>Patika Robotics</td>\n      <td>Industry 4.0</td>\n      <td>Turkey</td>\n      <td>2020-12-30</td>\n      <td>2020Q4</td>\n      <td>Inbound - Partners</td>\n    </tr>\n  </tbody>\n</table>\n<p>1047 rows × 6 columns</p>\n</div>"
     },
     "metadata": {},
     "execution_count": 18
    }
   ],
   "source": [
    "pipeline[['Name', 'Sector', 'Country', 'Date', 'Quarter', 'Origination Type']].sort_values(by=['Date'] , ascending=True)"
   ]
  },
  {
   "cell_type": "code",
   "execution_count": 19,
   "metadata": {},
   "outputs": [],
   "source": [
    "pipeline['Quarter'] = pipeline['Quarter'].astype('str')"
   ]
  },
  {
   "cell_type": "code",
   "execution_count": 20,
   "metadata": {},
   "outputs": [],
   "source": [
    "#pipeline = pipeline.groupby(['Origination Type','Quarter']).size().to_frame('size').reset_index()"
   ]
  },
  {
   "cell_type": "code",
   "execution_count": 21,
   "metadata": {},
   "outputs": [
    {
     "output_type": "execute_result",
     "data": {
      "text/plain": [
       "0       Inbound - Partners\n",
       "1                 Outbound\n",
       "2       Inbound - Partners\n",
       "3                 Outbound\n",
       "4         Inbound - Direct\n",
       "               ...        \n",
       "1042      Inbound - Direct\n",
       "1043      Inbound - Direct\n",
       "1044    Inbound - Partners\n",
       "1045      Inbound - Direct\n",
       "1046    Inbound - Partners\n",
       "Name: Origination Type, Length: 1047, dtype: object"
      ]
     },
     "metadata": {},
     "execution_count": 21
    }
   ],
   "source": [
    "pipeline['Origination Type']"
   ]
  },
  {
   "cell_type": "code",
   "execution_count": 30,
   "metadata": {},
   "outputs": [
    {
     "output_type": "display_data",
     "data": {
      "application/vnd.plotly.v1+json": {
       "config": {
        "plotlyServerURL": "https://plot.ly"
       },
       "data": [
        {
         "cumulative": {
          "enabled": true
         },
         "name": "Outbound",
         "nbinsx": 10,
         "type": "histogram",
         "x": [
          "2018Q2",
          "2018Q3",
          "2018Q3",
          "2018Q3",
          "2018Q4",
          "2019Q1",
          "2019Q1",
          "2019Q2",
          "2019Q2",
          "2019Q3",
          "2019Q3",
          "2019Q4",
          "2020Q1",
          "2020Q1",
          "2020Q1",
          "2020Q1",
          "2020Q1",
          "2020Q1",
          "2020Q1",
          "2020Q1",
          "2020Q1",
          "2020Q2",
          "2020Q2",
          "2020Q3",
          "2020Q3",
          "2020Q3",
          "2020Q3",
          "2020Q3",
          "2020Q3",
          "2020Q4",
          "2020Q4",
          "2020Q4",
          "2020Q4",
          "2020Q4",
          "2020Q4",
          "2020Q4",
          "2020Q4",
          "2020Q4"
         ]
        },
        {
         "cumulative": {
          "enabled": true
         },
         "name": "Inbound - Partners",
         "nbinsx": 10,
         "type": "histogram",
         "x": [
          "2018Q2",
          "2018Q4",
          "2019Q1",
          "2019Q1",
          "2019Q1",
          "2019Q2",
          "2019Q2",
          "2020Q1",
          "2020Q1",
          "2020Q1",
          "2020Q2",
          "2020Q2",
          "2020Q2",
          "2020Q3",
          "2020Q3",
          "2020Q3",
          "2020Q3",
          "2020Q3",
          "2020Q3",
          "2020Q4",
          "2020Q4",
          "2020Q4",
          "2020Q4",
          "2020Q4"
         ]
        },
        {
         "cumulative": {
          "enabled": true
         },
         "name": "Inbound - Direct",
         "nbinsx": 10,
         "type": "histogram",
         "x": [
          "2020Q1",
          "2020Q1",
          "2020Q1",
          "2020Q2",
          "2020Q2",
          "2020Q3",
          "2020Q3",
          "2020Q3",
          "2020Q3",
          "2020Q4",
          "2020Q4",
          "2020Q4",
          "2020Q4",
          "2020Q4",
          "2020Q4",
          "2020Q4",
          "2020Q4"
         ]
        }
       ],
       "layout": {
        "barmode": "stack",
        "template": {
         "data": {
          "bar": [
           {
            "error_x": {
             "color": "#2a3f5f"
            },
            "error_y": {
             "color": "#2a3f5f"
            },
            "marker": {
             "line": {
              "color": "#E5ECF6",
              "width": 0.5
             }
            },
            "type": "bar"
           }
          ],
          "barpolar": [
           {
            "marker": {
             "line": {
              "color": "#E5ECF6",
              "width": 0.5
             }
            },
            "type": "barpolar"
           }
          ],
          "carpet": [
           {
            "aaxis": {
             "endlinecolor": "#2a3f5f",
             "gridcolor": "white",
             "linecolor": "white",
             "minorgridcolor": "white",
             "startlinecolor": "#2a3f5f"
            },
            "baxis": {
             "endlinecolor": "#2a3f5f",
             "gridcolor": "white",
             "linecolor": "white",
             "minorgridcolor": "white",
             "startlinecolor": "#2a3f5f"
            },
            "type": "carpet"
           }
          ],
          "choropleth": [
           {
            "colorbar": {
             "outlinewidth": 0,
             "ticks": ""
            },
            "type": "choropleth"
           }
          ],
          "contour": [
           {
            "colorbar": {
             "outlinewidth": 0,
             "ticks": ""
            },
            "colorscale": [
             [
              0,
              "#0d0887"
             ],
             [
              0.1111111111111111,
              "#46039f"
             ],
             [
              0.2222222222222222,
              "#7201a8"
             ],
             [
              0.3333333333333333,
              "#9c179e"
             ],
             [
              0.4444444444444444,
              "#bd3786"
             ],
             [
              0.5555555555555556,
              "#d8576b"
             ],
             [
              0.6666666666666666,
              "#ed7953"
             ],
             [
              0.7777777777777778,
              "#fb9f3a"
             ],
             [
              0.8888888888888888,
              "#fdca26"
             ],
             [
              1,
              "#f0f921"
             ]
            ],
            "type": "contour"
           }
          ],
          "contourcarpet": [
           {
            "colorbar": {
             "outlinewidth": 0,
             "ticks": ""
            },
            "type": "contourcarpet"
           }
          ],
          "heatmap": [
           {
            "colorbar": {
             "outlinewidth": 0,
             "ticks": ""
            },
            "colorscale": [
             [
              0,
              "#0d0887"
             ],
             [
              0.1111111111111111,
              "#46039f"
             ],
             [
              0.2222222222222222,
              "#7201a8"
             ],
             [
              0.3333333333333333,
              "#9c179e"
             ],
             [
              0.4444444444444444,
              "#bd3786"
             ],
             [
              0.5555555555555556,
              "#d8576b"
             ],
             [
              0.6666666666666666,
              "#ed7953"
             ],
             [
              0.7777777777777778,
              "#fb9f3a"
             ],
             [
              0.8888888888888888,
              "#fdca26"
             ],
             [
              1,
              "#f0f921"
             ]
            ],
            "type": "heatmap"
           }
          ],
          "heatmapgl": [
           {
            "colorbar": {
             "outlinewidth": 0,
             "ticks": ""
            },
            "colorscale": [
             [
              0,
              "#0d0887"
             ],
             [
              0.1111111111111111,
              "#46039f"
             ],
             [
              0.2222222222222222,
              "#7201a8"
             ],
             [
              0.3333333333333333,
              "#9c179e"
             ],
             [
              0.4444444444444444,
              "#bd3786"
             ],
             [
              0.5555555555555556,
              "#d8576b"
             ],
             [
              0.6666666666666666,
              "#ed7953"
             ],
             [
              0.7777777777777778,
              "#fb9f3a"
             ],
             [
              0.8888888888888888,
              "#fdca26"
             ],
             [
              1,
              "#f0f921"
             ]
            ],
            "type": "heatmapgl"
           }
          ],
          "histogram": [
           {
            "marker": {
             "colorbar": {
              "outlinewidth": 0,
              "ticks": ""
             }
            },
            "type": "histogram"
           }
          ],
          "histogram2d": [
           {
            "colorbar": {
             "outlinewidth": 0,
             "ticks": ""
            },
            "colorscale": [
             [
              0,
              "#0d0887"
             ],
             [
              0.1111111111111111,
              "#46039f"
             ],
             [
              0.2222222222222222,
              "#7201a8"
             ],
             [
              0.3333333333333333,
              "#9c179e"
             ],
             [
              0.4444444444444444,
              "#bd3786"
             ],
             [
              0.5555555555555556,
              "#d8576b"
             ],
             [
              0.6666666666666666,
              "#ed7953"
             ],
             [
              0.7777777777777778,
              "#fb9f3a"
             ],
             [
              0.8888888888888888,
              "#fdca26"
             ],
             [
              1,
              "#f0f921"
             ]
            ],
            "type": "histogram2d"
           }
          ],
          "histogram2dcontour": [
           {
            "colorbar": {
             "outlinewidth": 0,
             "ticks": ""
            },
            "colorscale": [
             [
              0,
              "#0d0887"
             ],
             [
              0.1111111111111111,
              "#46039f"
             ],
             [
              0.2222222222222222,
              "#7201a8"
             ],
             [
              0.3333333333333333,
              "#9c179e"
             ],
             [
              0.4444444444444444,
              "#bd3786"
             ],
             [
              0.5555555555555556,
              "#d8576b"
             ],
             [
              0.6666666666666666,
              "#ed7953"
             ],
             [
              0.7777777777777778,
              "#fb9f3a"
             ],
             [
              0.8888888888888888,
              "#fdca26"
             ],
             [
              1,
              "#f0f921"
             ]
            ],
            "type": "histogram2dcontour"
           }
          ],
          "mesh3d": [
           {
            "colorbar": {
             "outlinewidth": 0,
             "ticks": ""
            },
            "type": "mesh3d"
           }
          ],
          "parcoords": [
           {
            "line": {
             "colorbar": {
              "outlinewidth": 0,
              "ticks": ""
             }
            },
            "type": "parcoords"
           }
          ],
          "pie": [
           {
            "automargin": true,
            "type": "pie"
           }
          ],
          "scatter": [
           {
            "marker": {
             "colorbar": {
              "outlinewidth": 0,
              "ticks": ""
             }
            },
            "type": "scatter"
           }
          ],
          "scatter3d": [
           {
            "line": {
             "colorbar": {
              "outlinewidth": 0,
              "ticks": ""
             }
            },
            "marker": {
             "colorbar": {
              "outlinewidth": 0,
              "ticks": ""
             }
            },
            "type": "scatter3d"
           }
          ],
          "scattercarpet": [
           {
            "marker": {
             "colorbar": {
              "outlinewidth": 0,
              "ticks": ""
             }
            },
            "type": "scattercarpet"
           }
          ],
          "scattergeo": [
           {
            "marker": {
             "colorbar": {
              "outlinewidth": 0,
              "ticks": ""
             }
            },
            "type": "scattergeo"
           }
          ],
          "scattergl": [
           {
            "marker": {
             "colorbar": {
              "outlinewidth": 0,
              "ticks": ""
             }
            },
            "type": "scattergl"
           }
          ],
          "scattermapbox": [
           {
            "marker": {
             "colorbar": {
              "outlinewidth": 0,
              "ticks": ""
             }
            },
            "type": "scattermapbox"
           }
          ],
          "scatterpolar": [
           {
            "marker": {
             "colorbar": {
              "outlinewidth": 0,
              "ticks": ""
             }
            },
            "type": "scatterpolar"
           }
          ],
          "scatterpolargl": [
           {
            "marker": {
             "colorbar": {
              "outlinewidth": 0,
              "ticks": ""
             }
            },
            "type": "scatterpolargl"
           }
          ],
          "scatterternary": [
           {
            "marker": {
             "colorbar": {
              "outlinewidth": 0,
              "ticks": ""
             }
            },
            "type": "scatterternary"
           }
          ],
          "surface": [
           {
            "colorbar": {
             "outlinewidth": 0,
             "ticks": ""
            },
            "colorscale": [
             [
              0,
              "#0d0887"
             ],
             [
              0.1111111111111111,
              "#46039f"
             ],
             [
              0.2222222222222222,
              "#7201a8"
             ],
             [
              0.3333333333333333,
              "#9c179e"
             ],
             [
              0.4444444444444444,
              "#bd3786"
             ],
             [
              0.5555555555555556,
              "#d8576b"
             ],
             [
              0.6666666666666666,
              "#ed7953"
             ],
             [
              0.7777777777777778,
              "#fb9f3a"
             ],
             [
              0.8888888888888888,
              "#fdca26"
             ],
             [
              1,
              "#f0f921"
             ]
            ],
            "type": "surface"
           }
          ],
          "table": [
           {
            "cells": {
             "fill": {
              "color": "#EBF0F8"
             },
             "line": {
              "color": "white"
             }
            },
            "header": {
             "fill": {
              "color": "#C8D4E3"
             },
             "line": {
              "color": "white"
             }
            },
            "type": "table"
           }
          ]
         },
         "layout": {
          "annotationdefaults": {
           "arrowcolor": "#2a3f5f",
           "arrowhead": 0,
           "arrowwidth": 1
          },
          "autotypenumbers": "strict",
          "coloraxis": {
           "colorbar": {
            "outlinewidth": 0,
            "ticks": ""
           }
          },
          "colorscale": {
           "diverging": [
            [
             0,
             "#8e0152"
            ],
            [
             0.1,
             "#c51b7d"
            ],
            [
             0.2,
             "#de77ae"
            ],
            [
             0.3,
             "#f1b6da"
            ],
            [
             0.4,
             "#fde0ef"
            ],
            [
             0.5,
             "#f7f7f7"
            ],
            [
             0.6,
             "#e6f5d0"
            ],
            [
             0.7,
             "#b8e186"
            ],
            [
             0.8,
             "#7fbc41"
            ],
            [
             0.9,
             "#4d9221"
            ],
            [
             1,
             "#276419"
            ]
           ],
           "sequential": [
            [
             0,
             "#0d0887"
            ],
            [
             0.1111111111111111,
             "#46039f"
            ],
            [
             0.2222222222222222,
             "#7201a8"
            ],
            [
             0.3333333333333333,
             "#9c179e"
            ],
            [
             0.4444444444444444,
             "#bd3786"
            ],
            [
             0.5555555555555556,
             "#d8576b"
            ],
            [
             0.6666666666666666,
             "#ed7953"
            ],
            [
             0.7777777777777778,
             "#fb9f3a"
            ],
            [
             0.8888888888888888,
             "#fdca26"
            ],
            [
             1,
             "#f0f921"
            ]
           ],
           "sequentialminus": [
            [
             0,
             "#0d0887"
            ],
            [
             0.1111111111111111,
             "#46039f"
            ],
            [
             0.2222222222222222,
             "#7201a8"
            ],
            [
             0.3333333333333333,
             "#9c179e"
            ],
            [
             0.4444444444444444,
             "#bd3786"
            ],
            [
             0.5555555555555556,
             "#d8576b"
            ],
            [
             0.6666666666666666,
             "#ed7953"
            ],
            [
             0.7777777777777778,
             "#fb9f3a"
            ],
            [
             0.8888888888888888,
             "#fdca26"
            ],
            [
             1,
             "#f0f921"
            ]
           ]
          },
          "colorway": [
           "#636efa",
           "#EF553B",
           "#00cc96",
           "#ab63fa",
           "#FFA15A",
           "#19d3f3",
           "#FF6692",
           "#B6E880",
           "#FF97FF",
           "#FECB52"
          ],
          "font": {
           "color": "#2a3f5f"
          },
          "geo": {
           "bgcolor": "white",
           "lakecolor": "white",
           "landcolor": "#E5ECF6",
           "showlakes": true,
           "showland": true,
           "subunitcolor": "white"
          },
          "hoverlabel": {
           "align": "left"
          },
          "hovermode": "closest",
          "mapbox": {
           "style": "light"
          },
          "paper_bgcolor": "white",
          "plot_bgcolor": "#E5ECF6",
          "polar": {
           "angularaxis": {
            "gridcolor": "white",
            "linecolor": "white",
            "ticks": ""
           },
           "bgcolor": "#E5ECF6",
           "radialaxis": {
            "gridcolor": "white",
            "linecolor": "white",
            "ticks": ""
           }
          },
          "scene": {
           "xaxis": {
            "backgroundcolor": "#E5ECF6",
            "gridcolor": "white",
            "gridwidth": 2,
            "linecolor": "white",
            "showbackground": true,
            "ticks": "",
            "zerolinecolor": "white"
           },
           "yaxis": {
            "backgroundcolor": "#E5ECF6",
            "gridcolor": "white",
            "gridwidth": 2,
            "linecolor": "white",
            "showbackground": true,
            "ticks": "",
            "zerolinecolor": "white"
           },
           "zaxis": {
            "backgroundcolor": "#E5ECF6",
            "gridcolor": "white",
            "gridwidth": 2,
            "linecolor": "white",
            "showbackground": true,
            "ticks": "",
            "zerolinecolor": "white"
           }
          },
          "shapedefaults": {
           "line": {
            "color": "#2a3f5f"
           }
          },
          "ternary": {
           "aaxis": {
            "gridcolor": "white",
            "linecolor": "white",
            "ticks": ""
           },
           "baxis": {
            "gridcolor": "white",
            "linecolor": "white",
            "ticks": ""
           },
           "bgcolor": "#E5ECF6",
           "caxis": {
            "gridcolor": "white",
            "linecolor": "white",
            "ticks": ""
           }
          },
          "title": {
           "x": 0.05
          },
          "xaxis": {
           "automargin": true,
           "gridcolor": "white",
           "linecolor": "white",
           "ticks": "",
           "title": {
            "standoff": 15
           },
           "zerolinecolor": "white",
           "zerolinewidth": 2
          },
          "yaxis": {
           "automargin": true,
           "gridcolor": "white",
           "linecolor": "white",
           "ticks": "",
           "title": {
            "standoff": 15
           },
           "zerolinecolor": "white",
           "zerolinewidth": 2
          }
         }
        },
        "title": {
         "text": "Distribution",
         "x": 0.7,
         "y": 0.92
        },
        "xaxis": {
         "title": {
          "text": "Time"
         }
        },
        "yaxis": {
         "title": {
          "text": "Origination Type"
         }
        }
       }
      }
     },
     "metadata": {}
    }
   ],
   "source": [
    "stack_histogram_creator('Origination Type', 'Quarter', list(pipeline['Origination Type'].unique()), 10, 'Distribution', 'country_per_date.html')\n",
    "#stack_histogram_creator('Country', 'Date', country_list, 10, 'Country Distribution over Time', 'country_per_date.html')"
   ]
  },
  {
   "cell_type": "code",
   "execution_count": 23,
   "metadata": {},
   "outputs": [],
   "source": [
    "#stack_histogram_creator('Sector', 'Date', sector_list, 1000, 'Sector Distribution over Time', 'sector_per_date.html')"
   ]
  },
  {
   "cell_type": "code",
   "execution_count": 24,
   "metadata": {},
   "outputs": [],
   "source": [
    "#keep these arrays in case they are needed\n",
    "sector_list = ['Energy', 'Industry 4.0', 'Mobility', 'Supply Chain']\n",
    "country_list = ['Germany', 'Turkey', 'United Kingdom']"
   ]
  },
  {
   "cell_type": "code",
   "execution_count": 25,
   "metadata": {},
   "outputs": [],
   "source": [
    "#remove all NaN values\n",
    "pipeline.dropna(subset = ['Sub-sector'], inplace=True)\n",
    "pipeline['Sub-sector'] = pipeline['Sub-sector'].str.lower()"
   ]
  },
  {
   "cell_type": "code",
   "execution_count": 26,
   "metadata": {},
   "outputs": [],
   "source": [
    "#drop all Other columns\n",
    "pipeline.drop(pipeline[pipeline['Sector'] == 'Other'].index, inplace=True)\n",
    "pipeline.drop_duplicates(subset='Sub-sector', keep=\"first\", inplace=True)"
   ]
  },
  {
   "cell_type": "code",
   "execution_count": 27,
   "metadata": {},
   "outputs": [],
   "source": [
    "#observe different sectors\n",
    "sector_list = pipeline['Sector'].unique()\n",
    "\n",
    "#empty array to fill afterwards\n",
    "exclude_include_data = [[[], []], [[], []], [[], []], [[], []]]\n",
    "\n",
    "##No repeating keywords !!!\n",
    "#Energy Storage & Management\n",
    "#exclude [0]\n",
    "exclude_include_data[0][0] = ['']\n",
    "#include [1]\n",
    "exclude_include_data[0][1] = ['battery', 'grid', 'electric vehicle charging']\n",
    "\n",
    "#Mobility & Automotive\n",
    "exclude_include_data[1][0] = ['data privacy', 'image recognition', 'electric vehicles']\n",
    "exclude_include_data[1][1] = ['mobility', 'electric vehicle' , 'charging' ,'micromobility', 'bike', 'mobility as a service']\n",
    "\n",
    "#Supply Chain & Logistics\n",
    "exclude_include_data[2][0] = ['nlp / semantic-tech', 'semantic-tech', 'nlp', 'e-commerce ']\n",
    "exclude_include_data[2][1] = ['blockchain', 'traceability', 'drone', 'freight forwarding', 'automated guided vehicle']\n",
    "\n",
    "#Industry 4.0\n",
    "exclude_include_data[3][0] = ['healthcare', 'display']\n",
    "exclude_include_data[3][1] = ['augmented reality', 'virtual reality', 'manufacturing', 'low code ai', 'no code ai']"
   ]
  },
  {
   "cell_type": "code",
   "execution_count": 28,
   "metadata": {},
   "outputs": [
    {
     "output_type": "stream",
     "name": "stdout",
     "text": [
      "Sector name: Supply Chain & Logistics\nItem count: 17\n['autonomous mobility', 'blockchain/traceability', 'waste management', 'delivery', 'digital freight forwarding/brokerage', 'risk assessment', 'marine transportation', 'warehouse', 'nlp / semantic-tech', 'ports and shipping', 'storage', 'moving', 'e-commerce\\xa0', 'food delivery', 'battery', 'grid', 'electric vehicle charging']\n----------------------------------\n\nSector name: Mobility & Automotive\nItem count: 28\n['car-sharing', 'automotive supplier', 'travel', 'fleet management', 'ev charging', 'computer vision', 'micromobility charging', 'scooter operator/device', 'ai optimisation\\xa0', 'cycling camera', 'mobility platform', 'insurance', 'e-bikes', 'energy harvesting', 'engine', 'lidar', 'hyperloop', 'vehicle mfg', 'used cars', 'maas', 'retrofit', 'safety', 'mobility', 'electric vehicle', 'charging', 'micromobility', 'bike', 'mobility as a service']\n----------------------------------\n\nSector name: Energy Storage & Management\nItem count: 20\n['batteries', 'flywheel', 'energy optimisation', 'grid management', 'space tech', 'sensor', 'energy traceability', 'hydrogen', 'energy generation', 'circulor economy/recycling', 'fuel cell', 'cooling', 'energy trading', 'concentrated solar power', 'building management system', 'blockchain', 'traceability', 'drone', 'freight forwarding', 'automated guided vehicle']\n----------------------------------\n\nSector name: Industry 4.0\nItem count: 28\n['wearables', 'ar/vr', 'predictive maintenance', 'quantum cryptography', 'drone/flight tech', 'enterprise', 'agv', 'cybersecurity', 'communication', 'carbon footprint', 'quantum computing', 'additive manufacturing', 'electronics', 'helmet-tech', 'construction', 'robotic tech', 'quality control', 'parts manufacturing', 'connected devices', 'quantum key', 'no code / low code ai', 'exoskeleton', 'bearings', 'augmented reality', 'virtual reality', 'manufacturing', 'low code ai', 'no code ai']\n----------------------------------\n\n"
     ]
    }
   ],
   "source": [
    "for sector, exclude_include_datum in zip(list(sector_list), exclude_include_data):\n",
    "    keyword_calculator(pipeline, sector, exclude_include_datum[0], exclude_include_datum[1])"
   ]
  },
  {
   "cell_type": "code",
   "execution_count": null,
   "metadata": {},
   "outputs": [],
   "source": []
  },
  {
   "cell_type": "code",
   "execution_count": null,
   "metadata": {},
   "outputs": [],
   "source": []
  }
 ]
}