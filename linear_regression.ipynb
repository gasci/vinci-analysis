{
 "metadata": {
  "language_info": {
   "codemirror_mode": {
    "name": "ipython",
    "version": 3
   },
   "file_extension": ".py",
   "mimetype": "text/x-python",
   "name": "python",
   "nbconvert_exporter": "python",
   "pygments_lexer": "ipython3",
   "version": "3.8.5-final"
  },
  "orig_nbformat": 2,
  "kernelspec": {
   "name": "python3",
   "display_name": "Python 3.8.5 64-bit ('env')",
   "metadata": {
    "interpreter": {
     "hash": "51da6c8bb7e6c992b980497d585c5701cdf791fcbbfe6dc9056c3f444d0f18f3"
    }
   }
  }
 },
 "nbformat": 4,
 "nbformat_minor": 2,
 "cells": [
  {
   "cell_type": "code",
   "execution_count": 157,
   "metadata": {},
   "outputs": [],
   "source": [
    "import pandas as pd\n",
    "import numpy as np\n",
    "import matplotlib.pyplot as plt\n",
    "#from pandas_profiling import ProfileReport\n",
    "import plotly.figure_factory as ff\n",
    "import plotly.graph_objects as go\n",
    "import plotly.express as px\n",
    "import datetime \n",
    "from dateutil.parser import parse\n",
    "import nbformat\n",
    "from sklearn import linear_model"
   ]
  },
  {
   "cell_type": "code",
   "execution_count": 158,
   "metadata": {},
   "outputs": [],
   "source": [
    "#mass index modifier\n",
    "def set_indexes(dfs, index_list):\n",
    "    for df, index in zip(dfs, index_list):\n",
    "        df.set_index(index, inplace=True, drop=True)"
   ]
  },
  {
   "cell_type": "code",
   "execution_count": 163,
   "metadata": {},
   "outputs": [],
   "source": [
    "RAW_DATA_FOLDER = 'data/raw/'\n",
    "OUTPUT_DATA_FOLDER = 'data/output/'\n",
    "REPORT_FOLDER = 'reports/'\n",
    "\n",
    "\"\"\"test line\"\"\"\n",
    "\n",
    "#sectors and countries that we are interested\n",
    "sector_list = ['Energy Storage & Management', 'Industry 4.0', 'Mobility & Automotive', 'Supply Chain & Logistics', 'Other']\n",
    "country_list = ['Germany', 'Turkey', 'United Kingdom', 'Other']\n",
    "\n",
    "pipeline = pd.read_csv(os.path.join(RAW_DATA_FOLDER, 'pipeline.csv'))"
   ]
  },
  {
   "cell_type": "code",
   "execution_count": 164,
   "metadata": {},
   "outputs": [],
   "source": [
    "#standardize the date input\n",
    "pipeline.rename(columns={'Day Created': 'Date'}, inplace=True)\n",
    "pipeline['Date'] = pipeline['Date'].str.replace('.', '-')\n",
    "pipeline['Date'] = pipeline['Date'].str.replace('/', '-')\n",
    "pipeline.loc[~pipeline['Country'].isin(country_list), 'Country'] = 'Other'\n",
    "#get rid of irrelevant rows\n",
    "pipeline.dropna(subset = ['Sector'], inplace=True)\n",
    "#adjust time format\n",
    "pipeline[\"Date\"] = pd.to_datetime(pipeline[\"Date\"]).dt.strftime('%Y-%m-%d')\n",
    "pipeline[\"Date\"] = pipeline[\"Date\"].apply(lambda x : parse(x))"
   ]
  },
  {
   "cell_type": "code",
   "execution_count": 180,
   "metadata": {},
   "outputs": [],
   "source": [
    "def forecast_for_item(item, data_path):\n",
    "    country_cumulative = pd.read_csv(data_path)\n",
    "    country_cumulative = country_cumulative[['Date', item]]\n",
    "\n",
    "    country_cumulative['Date'] = pd.to_datetime(country_cumulative['Date'], format=\"%Y-%m-%d\")\n",
    "\n",
    "    minimum_date = country_cumulative['Date'].min()\n",
    "    maximum_date = country_cumulative['Date'].max()\n",
    "    country_cumulative['Date'] = country_cumulative['Date'] - minimum_date\n",
    "\n",
    "    country_cumulative['Date'] = country_cumulative['Date'].apply(lambda x : int(str(x).replace(\" days 00:00:00\", \"\")))\n",
    "    country_cumulative[item] = country_cumulative[item].apply(lambda x : int(x))\n",
    "\n",
    "    X = country_cumulative[['Date']]\n",
    "    y = country_cumulative[item]\n",
    "\n",
    "    model = linear_model.LinearRegression().fit(X, y)\n",
    "\n",
    "    days_later_from_earliest = [[365*2], [365*3], [365*5], [365*10]]\n",
    "\n",
    "    return model.predict(np.array(days_later_from_earliest))   "
   ]
  },
  {
   "cell_type": "code",
   "execution_count": 186,
   "metadata": {},
   "outputs": [
    {
     "output_type": "stream",
     "name": "stdout",
     "text": [
      "[ 126.93260815  236.9754363   457.06109261 1007.27523338]\n"
     ]
    }
   ],
   "source": [
    "#earliest: \"2018-01-04\"\n",
    "#latest: \"2020-12-22\"\n",
    "predictions = forecast_for_item('Other', os.path.join(OUTPUT_DATA_FOLDER, 'cumulative_data_Country.csv'))\n",
    "print(predictions)"
   ]
  },
  {
   "cell_type": "code",
   "execution_count": null,
   "metadata": {},
   "outputs": [],
   "source": []
  }
 ]
}